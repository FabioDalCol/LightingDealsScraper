{
  "nbformat": 4,
  "nbformat_minor": 0,
  "metadata": {
    "colab": {
      "provenance": []
    },
    "kernelspec": {
      "name": "python3",
      "display_name": "Python 3"
    },
    "language_info": {
      "name": "python"
    }
  },
  "cells": [
    {
      "cell_type": "code",
      "source": [
        "# Set up for running selenium in Google Colab\n",
        "## You don't need to run this code if you do it in Jupyter notebook, or other local Python setting\n",
        "%%shell\n",
        "sudo apt -y update\n",
        "sudo apt install -y wget curl unzip\n",
        "wget http://archive.ubuntu.com/ubuntu/pool/main/libu/libu2f-host/libu2f-udev_1.1.4-1_all.deb\n",
        "dpkg -i libu2f-udev_1.1.4-1_all.deb\n",
        "wget https://dl.google.com/linux/direct/google-chrome-stable_current_amd64.deb\n",
        "dpkg -i google-chrome-stable_current_amd64.deb\n",
        "CHROME_DRIVER_VERSION=`curl -sS chromedriver.storage.googleapis.com/LATEST_RELEASE`\n",
        "wget -N https://chromedriver.storage.googleapis.com/$CHROME_DRIVER_VERSION/chromedriver_linux64.zip -P /tmp/\n",
        "unzip -o /tmp/chromedriver_linux64.zip -d /tmp/\n",
        "chmod +x /tmp/chromedriver\n",
        "mv /tmp/chromedriver /usr/local/bin/chromedriver\n",
        "pip install selenium"
      ],
      "metadata": {
        "colab": {
          "base_uri": "https://localhost:8080/"
        },
        "id": "3W64O5VViItY",
        "outputId": "78d2cd30-5f48-4ec6-b233-d6c8a595fb4b"
      },
      "execution_count": 1,
      "outputs": [
        {
          "output_type": "stream",
          "name": "stdout",
          "text": [
            "\u001b[33m\r0% [Working]\u001b[0m\r            \rHit:1 https://developer.download.nvidia.com/compute/cuda/repos/ubuntu2204/x86_64  InRelease\n",
            "\u001b[33m\r0% [Connecting to archive.ubuntu.com (185.125.190.39)] [Waiting for headers] [W\u001b[0m\r                                                                               \rHit:2 https://cloud.r-project.org/bin/linux/ubuntu jammy-cran40/ InRelease\n",
            "Get:3 http://security.ubuntu.com/ubuntu jammy-security InRelease [110 kB]\n",
            "Hit:4 http://archive.ubuntu.com/ubuntu jammy InRelease\n",
            "Get:5 http://archive.ubuntu.com/ubuntu jammy-updates InRelease [119 kB]\n",
            "Hit:6 https://ppa.launchpadcontent.net/c2d4u.team/c2d4u4.0+/ubuntu jammy InRelease\n",
            "Hit:7 https://ppa.launchpadcontent.net/deadsnakes/ppa/ubuntu jammy InRelease\n",
            "Hit:8 http://archive.ubuntu.com/ubuntu jammy-backports InRelease\n",
            "Hit:9 https://ppa.launchpadcontent.net/graphics-drivers/ppa/ubuntu jammy InRelease\n",
            "Hit:10 https://ppa.launchpadcontent.net/ubuntugis/ppa/ubuntu jammy InRelease\n",
            "Fetched 229 kB in 2s (144 kB/s)\n",
            "Reading package lists... Done\n",
            "Building dependency tree... Done\n",
            "Reading state information... Done\n",
            "41 packages can be upgraded. Run 'apt list --upgradable' to see them.\n",
            "Reading package lists... Done\n",
            "Building dependency tree... Done\n",
            "Reading state information... Done\n",
            "wget is already the newest version (1.21.2-2ubuntu1).\n",
            "curl is already the newest version (7.81.0-1ubuntu1.15).\n",
            "unzip is already the newest version (6.0-26ubuntu3.2).\n",
            "You might want to run 'apt --fix-broken install' to correct these.\n",
            "The following packages have unmet dependencies:\n",
            " google-chrome-stable : Depends: libvulkan1 but it is not going to be installed\n",
            "\u001b[1;31mE: \u001b[0mUnmet dependencies. Try 'apt --fix-broken install' with no packages (or specify a solution).\u001b[0m\n",
            "--2024-03-10 10:13:24--  http://archive.ubuntu.com/ubuntu/pool/main/libu/libu2f-host/libu2f-udev_1.1.4-1_all.deb\n",
            "Resolving archive.ubuntu.com (archive.ubuntu.com)... 185.125.190.39, 91.189.91.82, 91.189.91.81, ...\n",
            "Connecting to archive.ubuntu.com (archive.ubuntu.com)|185.125.190.39|:80... connected.\n",
            "HTTP request sent, awaiting response... 200 OK\n",
            "Length: 3708 (3.6K) [application/x-debian-package]\n",
            "Saving to: ‘libu2f-udev_1.1.4-1_all.deb.1’\n",
            "\n",
            "libu2f-udev_1.1.4-1 100%[===================>]   3.62K  --.-KB/s    in 0s      \n",
            "\n",
            "2024-03-10 10:13:24 (227 MB/s) - ‘libu2f-udev_1.1.4-1_all.deb.1’ saved [3708/3708]\n",
            "\n",
            "(Reading database ... 121867 files and directories currently installed.)\n",
            "Preparing to unpack libu2f-udev_1.1.4-1_all.deb ...\n",
            "Unpacking libu2f-udev (1.1.4-1) over (1.1.4-1) ...\n",
            "Setting up libu2f-udev (1.1.4-1) ...\n",
            "--2024-03-10 10:13:24--  https://dl.google.com/linux/direct/google-chrome-stable_current_amd64.deb\n",
            "Resolving dl.google.com (dl.google.com)... 142.251.107.93, 142.251.107.190, 142.251.107.91, ...\n",
            "Connecting to dl.google.com (dl.google.com)|142.251.107.93|:443... connected.\n",
            "HTTP request sent, awaiting response... 200 OK\n",
            "Length: 106071384 (101M) [application/x-debian-package]\n",
            "Saving to: ‘google-chrome-stable_current_amd64.deb.1’\n",
            "\n",
            "google-chrome-stabl 100%[===================>] 101.16M   277MB/s    in 0.4s    \n",
            "\n",
            "2024-03-10 10:13:25 (277 MB/s) - ‘google-chrome-stable_current_amd64.deb.1’ saved [106071384/106071384]\n",
            "\n",
            "(Reading database ... 121867 files and directories currently installed.)\n",
            "Preparing to unpack google-chrome-stable_current_amd64.deb ...\n",
            "Unpacking google-chrome-stable (122.0.6261.111-1) over (122.0.6261.111-1) ...\n",
            "\u001b[1mdpkg:\u001b[0m dependency problems prevent configuration of google-chrome-stable:\n",
            " google-chrome-stable depends on libvulkan1; however:\n",
            "  Package libvulkan1 is not installed.\n",
            "\n",
            "\u001b[1mdpkg:\u001b[0m error processing package google-chrome-stable (--install):\n",
            " dependency problems - leaving unconfigured\n",
            "Processing triggers for man-db (2.10.2-1) ...\n",
            "Errors were encountered while processing:\n",
            " google-chrome-stable\n",
            "--2024-03-10 10:13:40--  https://chromedriver.storage.googleapis.com/114.0.5735.90/chromedriver_linux64.zip\n",
            "Resolving chromedriver.storage.googleapis.com (chromedriver.storage.googleapis.com)... 173.194.215.207, 173.194.216.207, 108.177.13.207, ...\n",
            "Connecting to chromedriver.storage.googleapis.com (chromedriver.storage.googleapis.com)|173.194.215.207|:443... connected.\n",
            "HTTP request sent, awaiting response... 304 Not Modified\n",
            "File ‘/tmp/chromedriver_linux64.zip’ not modified on server. Omitting download.\n",
            "\n",
            "Archive:  /tmp/chromedriver_linux64.zip\n",
            "  inflating: /tmp/chromedriver       \n",
            "  inflating: /tmp/LICENSE.chromedriver  \n",
            "Requirement already satisfied: selenium in /usr/local/lib/python3.10/dist-packages (4.18.1)\n",
            "Requirement already satisfied: urllib3[socks]<3,>=1.26 in /usr/local/lib/python3.10/dist-packages (from selenium) (2.0.7)\n",
            "Requirement already satisfied: trio~=0.17 in /usr/local/lib/python3.10/dist-packages (from selenium) (0.24.0)\n",
            "Requirement already satisfied: trio-websocket~=0.9 in /usr/local/lib/python3.10/dist-packages (from selenium) (0.11.1)\n",
            "Requirement already satisfied: certifi>=2021.10.8 in /usr/local/lib/python3.10/dist-packages (from selenium) (2024.2.2)\n",
            "Requirement already satisfied: typing_extensions>=4.9.0 in /usr/local/lib/python3.10/dist-packages (from selenium) (4.10.0)\n",
            "Requirement already satisfied: attrs>=20.1.0 in /usr/local/lib/python3.10/dist-packages (from trio~=0.17->selenium) (23.2.0)\n",
            "Requirement already satisfied: sortedcontainers in /usr/local/lib/python3.10/dist-packages (from trio~=0.17->selenium) (2.4.0)\n",
            "Requirement already satisfied: idna in /usr/local/lib/python3.10/dist-packages (from trio~=0.17->selenium) (3.6)\n",
            "Requirement already satisfied: outcome in /usr/local/lib/python3.10/dist-packages (from trio~=0.17->selenium) (1.3.0.post0)\n",
            "Requirement already satisfied: sniffio>=1.3.0 in /usr/local/lib/python3.10/dist-packages (from trio~=0.17->selenium) (1.3.1)\n",
            "Requirement already satisfied: exceptiongroup in /usr/local/lib/python3.10/dist-packages (from trio~=0.17->selenium) (1.2.0)\n",
            "Requirement already satisfied: wsproto>=0.14 in /usr/local/lib/python3.10/dist-packages (from trio-websocket~=0.9->selenium) (1.2.0)\n",
            "Requirement already satisfied: pysocks!=1.5.7,<2.0,>=1.5.6 in /usr/local/lib/python3.10/dist-packages (from urllib3[socks]<3,>=1.26->selenium) (1.7.1)\n",
            "Requirement already satisfied: h11<1,>=0.9.0 in /usr/local/lib/python3.10/dist-packages (from wsproto>=0.14->trio-websocket~=0.9->selenium) (0.14.0)\n"
          ]
        },
        {
          "output_type": "execute_result",
          "data": {
            "text/plain": []
          },
          "metadata": {},
          "execution_count": 1
        }
      ]
    },
    {
      "cell_type": "code",
      "source": [
        "!pip install chromedriver-autoinstaller\n",
        "\n",
        "import sys\n",
        "sys.path.insert(0,'/usr/lib/chromium-browser/chromedriver')\n",
        "\n",
        "import time\n",
        "import pandas as pd\n",
        "from bs4 import BeautifulSoup\n",
        "from selenium import webdriver\n",
        "import chromedriver_autoinstaller\n",
        "\n",
        "# setup chrome options\n",
        "chrome_options = webdriver.ChromeOptions()\n",
        "chrome_options.add_argument('--headless') # ensure GUI is off\n",
        "chrome_options.add_argument('--no-sandbox')\n",
        "chrome_options.add_argument('--disable-dev-shm-usage')\n",
        "#chrome_options.add_argument(\"--disable-javascript\")\n",
        "# set path to chromedriver as per your configuration\n",
        "chromedriver_autoinstaller.install()\n",
        "\n",
        "# set the target URL\n",
        "url = \"put-url-here-to-scrape\"\n",
        "\n",
        "# set up the webdriver\n",
        "driver = webdriver.Chrome(options=chrome_options)"
      ],
      "metadata": {
        "colab": {
          "base_uri": "https://localhost:8080/"
        },
        "id": "ugc51i10jb4N",
        "outputId": "6efa8fde-6a35-407e-a141-9144deff1ca5"
      },
      "execution_count": 2,
      "outputs": [
        {
          "output_type": "stream",
          "name": "stdout",
          "text": [
            "Requirement already satisfied: chromedriver-autoinstaller in /usr/local/lib/python3.10/dist-packages (0.6.4)\n",
            "Requirement already satisfied: packaging>=23.1 in /usr/local/lib/python3.10/dist-packages (from chromedriver-autoinstaller) (23.2)\n"
          ]
        }
      ]
    },
    {
      "cell_type": "code",
      "source": [
        "from selenium.webdriver.support.ui import WebDriverWait\n",
        "from selenium.webdriver.support import expected_conditions as EC\n",
        "from selenium.webdriver.common.by import By"
      ],
      "metadata": {
        "id": "x0Yv7gGwjmry"
      },
      "execution_count": 3,
      "outputs": []
    },
    {
      "cell_type": "code",
      "source": [
        "url_first = 'https://www.amazon.it/deals?ref_=nav_cs_gb&deals-widget=%257B%2522version%2522%253A1%252C%2522viewIndex%2522%253A'\n",
        "#page is a mutiple of 6 starting from 0, so page 1 is '' page 2 is '6' page 3 is '12' and so on\n",
        "page = '6' #page1\n",
        "url_last = '0%252C%2522presetId%2522%253A%2522deals-collection-lightning-deals%2522%252C%2522dealState%2522%253A%2522UPCOMING%2522%252C%2522dealType%2522%253A%2522LIGHTNING_DEAL%2522%252C%2522sorting%2522%253A%2522FEATURED%2522%257D'\n",
        "url = url_first + page + url_last\n",
        "driver.get(url)\n",
        "html = driver.page_source"
      ],
      "metadata": {
        "id": "Co31hRwGjoQF"
      },
      "execution_count": 4,
      "outputs": []
    },
    {
      "cell_type": "code",
      "source": [],
      "metadata": {
        "id": "imdXl-8jkEx1"
      },
      "execution_count": null,
      "outputs": []
    },
    {
      "cell_type": "code",
      "source": [
        "html"
      ],
      "metadata": {
        "id": "eLEzHghHHXXY"
      },
      "execution_count": null,
      "outputs": []
    },
    {
      "cell_type": "code",
      "source": [
        "len(html)"
      ],
      "metadata": {
        "colab": {
          "base_uri": "https://localhost:8080/"
        },
        "id": "dmSeJncbIWvK",
        "outputId": "01c8b9c5-53f1-4034-a96c-9b340ede8201"
      },
      "execution_count": null,
      "outputs": [
        {
          "output_type": "execute_result",
          "data": {
            "text/plain": [
              "869695"
            ]
          },
          "metadata": {},
          "execution_count": 5
        }
      ]
    },
    {
      "cell_type": "code",
      "source": [
        "arr = []"
      ],
      "metadata": {
        "id": "wWzNPlGj8e7J"
      },
      "execution_count": null,
      "outputs": []
    },
    {
      "cell_type": "code",
      "source": [
        "from bs4 import BeautifulSoup\n",
        "from datetime import datetime\n",
        "import re\n",
        "import json\n",
        "\n",
        "soup = BeautifulSoup(html, 'html.parser')\n",
        "# Find the <div> with the specified ID\n",
        "div_element = soup.find('div', id='slot-14')\n",
        "\n",
        "# Find the <script> tag within the <div>\n",
        "script_content = div_element.find('script').string\n",
        "\n",
        "# Define the regex pattern\n",
        "pattern = r'\\{\"widgetId\".*\\}\\)\\n '\n",
        "\n",
        "# Search for the pattern in the script content\n",
        "match = re.search(pattern, script_content)\n",
        "\n",
        "# fore some reason i'm not obtaining the first deal of the day\n",
        "deals_data = match.group().rstrip(\")\\n \")\n",
        "deals = json.loads(deals_data)['prefetchedData']['aapiGetDealsList'][0]['entities']\n",
        "for deal in deals:\n",
        "  product_id=deal['entity']['details']['entity']['landingPage']['url'].split(\"/\")[-1]\n",
        "  start_time= deal['entity']['details']['entity']['startTime']['value']\n",
        "  #start_time dosen't count early offers for prime members\n",
        "  time_dic = deal['entity']['badge']['entity']['messaging']['content']['fragments'][1]\n",
        "  actual_start_time= time_dic['dateTime'] if 'dateTime' in time_dic else time_dic['countdownTimer']['targetTime']\n",
        "  print(product_id + \" : \" + start_time + \" : \" + actual_start_time)"
      ],
      "metadata": {
        "colab": {
          "base_uri": "https://localhost:8080/"
        },
        "id": "TgUyXnwJJnLv",
        "outputId": "2712cee5-d477-480d-ac16-7e0365b8caec"
      },
      "execution_count": 5,
      "outputs": [
        {
          "output_type": "stream",
          "name": "stdout",
          "text": [
            "B0B5BZFLYW : 2024-03-11T07:35:00.000Z : 2024-03-11T07:05:00.000Z\n",
            "B07XXTY79M : 2024-03-11T07:35:00.000Z : 2024-03-11T07:05:00.000Z\n",
            "B09PYKV61M : 2024-03-11T07:40:00.000Z : 2024-03-11T07:10:00.000Z\n",
            "B09JKGH463 : 2024-03-11T07:40:00.000Z : 2024-03-11T07:10:00.000Z\n",
            "B0B6F4L4YX : 2024-03-11T07:40:00.000Z : 2024-03-11T07:10:00.000Z\n",
            "B09QJ9Q35V : 2024-03-11T07:40:00.000Z : 2024-03-11T07:10:00.000Z\n",
            "B0BR3939T2 : 2024-03-11T07:45:00.000Z : 2024-03-11T07:15:00.000Z\n",
            "B0CDC6NFPV : 2024-03-11T07:45:00.000Z : 2024-03-11T07:15:00.000Z\n",
            "B08613LJDQ : 2024-03-11T07:45:00.000Z : 2024-03-11T07:15:00.000Z\n",
            "B0B5V2VS6C : 2024-03-11T07:45:00.000Z : 2024-03-11T07:15:00.000Z\n",
            "B08SW2FC58 : 2024-03-11T07:50:00.000Z : 2024-03-11T07:20:00.000Z\n",
            "B085ZY4S5X : 2024-03-11T07:55:00.000Z : 2024-03-11T07:25:00.000Z\n",
            "B0CKXY8TGH : 2024-03-11T07:55:00.000Z : 2024-03-11T07:25:00.000Z\n",
            "B08N6BND31 : 2024-03-11T08:00:00.000Z : 2024-03-11T07:30:00.000Z\n",
            "B0BWCFZXW1 : 2024-03-11T08:00:00.000Z : 2024-03-11T07:30:00.000Z\n",
            "B09HZN2Y4M : 2024-03-11T08:00:00.000Z : 2024-03-11T07:30:00.000Z\n",
            "B0BL2CPW15 : 2024-03-11T08:00:00.000Z : 2024-03-11T07:30:00.000Z\n",
            "B07DF9CZVT : 2024-03-11T08:00:00.000Z : 2024-03-11T07:30:00.000Z\n",
            "B0BKSJR9B9 : 2024-03-11T08:00:00.000Z : 2024-03-11T07:30:00.000Z\n",
            "B091F2PG2H : 2024-03-11T08:00:00.000Z : 2024-03-11T07:30:00.000Z\n",
            "B0CRDK431Z : 2024-03-11T08:05:00.000Z : 2024-03-11T07:35:00.000Z\n",
            "B08DKVCFJV : 2024-03-11T08:05:00.000Z : 2024-03-11T07:35:00.000Z\n",
            "B09QW9Z6FX : 2024-03-11T08:05:00.000Z : 2024-03-11T07:35:00.000Z\n",
            "B0CLG8S3WQ : 2024-03-11T08:05:00.000Z : 2024-03-11T07:35:00.000Z\n",
            "B0B9RYJMGB : 2024-03-11T08:05:00.000Z : 2024-03-11T07:35:00.000Z\n",
            "B0CNRSPVYV : 2024-03-11T08:05:00.000Z : 2024-03-11T07:35:00.000Z\n",
            "B08D382VQH : 2024-03-11T08:10:00.000Z : 2024-03-11T07:40:00.000Z\n",
            "B0C1SFNDVD : 2024-03-11T08:10:00.000Z : 2024-03-11T07:40:00.000Z\n",
            "B07ZP7Y131 : 2024-03-11T08:10:00.000Z : 2024-03-11T07:40:00.000Z\n",
            "B0C7R2DK3M : 2024-03-11T08:10:00.000Z : 2024-03-11T07:40:00.000Z\n"
          ]
        }
      ]
    },
    {
      "cell_type": "code",
      "source": [
        "time_dic"
      ],
      "metadata": {
        "colab": {
          "base_uri": "https://localhost:8080/"
        },
        "id": "jvLCKvQclGL6",
        "outputId": "13749568-382c-4c86-feb1-744bf2d7ed41"
      },
      "execution_count": null,
      "outputs": [
        {
          "output_type": "execute_result",
          "data": {
            "text/plain": [
              "{'dateTime': '2024-03-11T06:30:00.000Z'}"
            ]
          },
          "metadata": {},
          "execution_count": 44
        }
      ]
    },
    {
      "cell_type": "code",
      "source": [
        "test_product_url = \"https://www.amazon.it/dp/B0CQCLF3HW\"\n",
        "driver.get(test_product_url)\n",
        "driver.page_source"
      ],
      "metadata": {
        "colab": {
          "base_uri": "https://localhost:8080/",
          "height": 105
        },
        "id": "hpT9hvL706kI",
        "outputId": "76619f1a-5b34-4132-c3e1-99e0ba20d743"
      },
      "execution_count": 27,
      "outputs": [
        {
          "output_type": "execute_result",
          "data": {
            "text/plain": [
              "'<html><head>\\n    <meta http-equiv=\"content-type\" content=\"text/html; charset=UTF-8\">\\n    <meta charset=\"utf-8\">\\n    <meta http-equiv=\"X-UA-Compatible\" content=\"IE=edge,chrome=1\">\\n<title>Ci dispiace</title>\\n</head>\\n<body bgcolor=\"#FFFFFF\" text=\"#000000\">\\n\\n<!--\\nPer discutere l\\'accesso automatizzato ai dati di Amazon, contatta api-services-support@amazon.com.\\nPer informazioni sulla migrazione alle nostre API, fare riferimento alle API di Marketplace all\\'indirizzo https://developer.amazonservices.com/ref=rm_5_sv o alla nostra Product Advertising API all\\'indirizzo https://affiliate-program.amazon.com/gp/advertising/api/detail/main.html/ref=rm_5_ac per i casi d\\'uso pubblicitari.\\n\\nTo discuss automated access to Amazon data please contact api-services-support@amazon.com.\\nFor information about migrating to our APIs refer to our Marketplace APIs at https://developer.amazonservices.it/ref=rm_c_sv, or our Product Advertising API at https://programma-affiliazione.amazon.it/gp/advertising/api/detail/main.html/ref=rm_c_ac for advertising use cases.\\n-->\\n\\n<!--\\nCorreios.DoNotSend\\n-->\\n\\n<center>\\n<a href=\"https://www.amazon.it/ref=cs_503_logo/\">\\n<img src=\"https://images-eu.ssl-images-amazon.com/images/G/29/x-locale/communities/people/logo.gif\" width=\"200\" height=\"45\" alt=\"Amazon.it\" border=\"0\"></a>\\n<p align=\"center\">\\n<font face=\"Verdana,Arial,Helvetica\">\\n<font size=\"+2\" color=\"#CC6600\"><b>Ci dispiace</b></font><br>\\n<b>Si è verificato un errore quando abbiamo tentato di elaborare la richiesta.<br>Stiamo lavorando al problema e ci aspettiamo di risolverlo a breve. Si prega di notare che se stavi effettuando un ordine, non sarà stato elaborato per il momento. Per favore riprova più tardi.\\n<br><br>Ci scusiamo per l\\'inconveniente.</b></font></p><p><font face=\"Verdana,Arial,Helvetica\">\\n\\n<img src=\"https://images-eu.ssl-images-amazon.com/images/G/02/x-locale/common/orange-arrow.gif\" width=\"10\" height=\"9\" border=\"0\" alt=\"*\">\\n<b><a href=\"https://www.amazon.it/ref=cs_503_link/\">Clicca qui per tornare alla home page di Amazon.it</a></b>\\n</font>\\n\\n</p></center>\\n\\n</body></html>'"
            ],
            "application/vnd.google.colaboratory.intrinsic+json": {
              "type": "string"
            }
          },
          "metadata": {},
          "execution_count": 27
        }
      ]
    },
    {
      "cell_type": "code",
      "source": [
        "#questo metodo funzionva, ma a caso da selenium non si trova più l'url \"/promo/\", dal sorgente chrome c'è ancora\n",
        "test_product_url = \"https://www.amazon.it/dp/B0CQCLF3HW\"\n",
        "driver.get(test_product_url)\n",
        "html = driver.page_source\n",
        "pattern = r'/promo/[^\"]*'\n",
        "promos = re.findall(pattern, html)\n",
        "[promo.split(\"/\")[-1] for promo in promos]"
      ],
      "metadata": {
        "colab": {
          "base_uri": "https://localhost:8080/"
        },
        "id": "t2iHQSknSaGo",
        "outputId": "e6697957-af2b-4f7e-b8ad-d36cf3639d77"
      },
      "execution_count": null,
      "outputs": [
        {
          "output_type": "execute_result",
          "data": {
            "text/plain": [
              "[]"
            ]
          },
          "metadata": {},
          "execution_count": 60
        }
      ]
    },
    {
      "cell_type": "code",
      "source": [
        "html"
      ],
      "metadata": {
        "colab": {
          "base_uri": "https://localhost:8080/",
          "height": 105
        },
        "id": "v6Ajoypblps_",
        "outputId": "3b7bad0e-0fa2-42da-b997-55ca151e388d"
      },
      "execution_count": null,
      "outputs": [
        {
          "output_type": "execute_result",
          "data": {
            "text/plain": [
              "'<html><head>\\n    <meta http-equiv=\"content-type\" content=\"text/html; charset=UTF-8\">\\n    <meta charset=\"utf-8\">\\n    <meta http-equiv=\"X-UA-Compatible\" content=\"IE=edge,chrome=1\">\\n<title>Ci dispiace</title>\\n</head>\\n<body bgcolor=\"#FFFFFF\" text=\"#000000\">\\n\\n<!--\\nPer discutere l\\'accesso automatizzato ai dati di Amazon, contatta api-services-support@amazon.com.\\nPer informazioni sulla migrazione alle nostre API, fare riferimento alle API di Marketplace all\\'indirizzo https://developer.amazonservices.com/ref=rm_5_sv o alla nostra Product Advertising API all\\'indirizzo https://affiliate-program.amazon.com/gp/advertising/api/detail/main.html/ref=rm_5_ac per i casi d\\'uso pubblicitari.\\n\\nTo discuss automated access to Amazon data please contact api-services-support@amazon.com.\\nFor information about migrating to our APIs refer to our Marketplace APIs at https://developer.amazonservices.it/ref=rm_c_sv, or our Product Advertising API at https://programma-affiliazione.amazon.it/gp/advertising/api/detail/main.html/ref=rm_c_ac for advertising use cases.\\n-->\\n\\n<!--\\nCorreios.DoNotSend\\n-->\\n\\n<center>\\n<a href=\"https://www.amazon.it/ref=cs_503_logo/\">\\n<img src=\"https://images-eu.ssl-images-amazon.com/images/G/29/x-locale/communities/people/logo.gif\" width=\"200\" height=\"45\" alt=\"Amazon.it\" border=\"0\"></a>\\n<p align=\"center\">\\n<font face=\"Verdana,Arial,Helvetica\">\\n<font size=\"+2\" color=\"#CC6600\"><b>Ci dispiace</b></font><br>\\n<b>Si è verificato un errore quando abbiamo tentato di elaborare la richiesta.<br>Stiamo lavorando al problema e ci aspettiamo di risolverlo a breve. Si prega di notare che se stavi effettuando un ordine, non sarà stato elaborato per il momento. Per favore riprova più tardi.\\n<br><br>Ci scusiamo per l\\'inconveniente.</b></font></p><p><font face=\"Verdana,Arial,Helvetica\">\\n\\n<img src=\"https://images-eu.ssl-images-amazon.com/images/G/02/x-locale/common/orange-arrow.gif\" width=\"10\" height=\"9\" border=\"0\" alt=\"*\">\\n<b><a href=\"https://www.amazon.it/ref=cs_503_link/\">Clicca qui per tornare alla home page di Amazon.it</a></b>\\n</font>\\n\\n</p></center>\\n\\n</body></html>'"
            ],
            "application/vnd.google.colaboratory.intrinsic+json": {
              "type": "string"
            }
          },
          "metadata": {},
          "execution_count": 61
        }
      ]
    },
    {
      "cell_type": "code",
      "source": [
        "driver.implicitly_wait(5)\n",
        "driver.get(\"https://www.amazon.it/dp/B0C2V1113J\")\n",
        "\n",
        "html = driver.page_source\n",
        "pattern = r'/promo/[^\"]*'\n",
        "promos = re.findall(pattern, html)\n",
        "[promo.split(\"/\")[-1] for promo in promos]"
      ],
      "metadata": {
        "colab": {
          "base_uri": "https://localhost:8080/"
        },
        "id": "aicMG9h9e-hp",
        "outputId": "f0e0005d-6be9-4e25-ccfc-261a3379ce63"
      },
      "execution_count": null,
      "outputs": [
        {
          "output_type": "execute_result",
          "data": {
            "text/plain": [
              "[]"
            ]
          },
          "metadata": {},
          "execution_count": 26
        }
      ]
    },
    {
      "cell_type": "code",
      "source": [
        "import requests\n",
        "def get_promo_details(promo_id):\n",
        "  base_promo_url = 'https://www.amazon.it/promotion/psp/'\n",
        "\n",
        "  promo_url = base_promo_url + promo_id\n",
        "  #promo_data = requests.get(promo_url).json()['cartProgressIndicatorResponse']['promotionTiers'][0]\n",
        "  html = requests.get(promo_url).text\n",
        "  pattern = r'let getCartItemsRequest = ({.*?});'\n",
        "  promo_data = re.search(pattern, html, re.DOTALL).group(1)\n",
        "  print(promo_data)\n",
        "  #return {\"promo_type\": promo_data['benefitType'].lower(), \"value\": promo_data['benefitValue']}\n",
        "\n",
        "get_promo_details('A3O2Q4VBLX7WDT')\n"
      ],
      "metadata": {
        "colab": {
          "base_uri": "https://localhost:8080/"
        },
        "id": "92IwPpbMnHVA",
        "outputId": "385f6a1c-fe74-41b6-dee4-78dc92c4fb04"
      },
      "execution_count": null,
      "outputs": [
        {
          "output_type": "stream",
          "name": "stdout",
          "text": [
            "{\n",
            "                    \"promotionId\": \"A3O2Q4VBLX7WDT\",\n",
            "                    \"thresholdType\": \"QUANTITY\",\n",
            "                    \"minQuantity\": \"1\",\n",
            "                    \"minAmount\": \"\",\n",
            "                    \"benefitAmount\": \"\",\n",
            "                    \"benefitPercent\": \"5\",\n",
            "                    \"benefitAmountCap\": \"\",\n",
            "                    \"showCartProgressIndicator\": false,\n",
            "                    \"numberOfProductSelections\" : \"2\",\n",
            "                    \"promotionThresholds\": JSON.stringify(promotionThresholdsArray)\n",
            "                }\n"
          ]
        }
      ]
    },
    {
      "cell_type": "code",
      "source": [
        "from bs4 import BeautifulSoup\n",
        "from datetime import datetime\n",
        "\n",
        "soup = BeautifulSoup(html, 'html.parser')\n",
        "\n",
        "# Find the parent div with the specified class prefix\n",
        "parent_div = soup.select_one('div[class^=\"Grid-module__gridDisplayGrid\"]')\n",
        "\n",
        "# Find all child divs with the specified class prefix\n",
        "divs = parent_div.select('div[class^=\"DealGridItem-module__dealItemDisplayGrid\"]')\n",
        "\n",
        "for div in divs:\n",
        "    # Extract product URL\n",
        "    product_url = div.select_one('a[class^=\"a-link-normal DealCard-module__linkOutlineOffset\"]')['href']\n",
        "\n",
        "    # Extract offer time and convert to datetime\n",
        "    offer_time_str = div.select_one('time[class^=\"DealMessaging-module__dealMessaging\"]').text.split(' ')[-1]\n",
        "    offer_time = None\n",
        "    try:\n",
        "      #offer_time = datetime.strptime(offer_time_str, '%H:%M')\n",
        "      offer_time = offer_time_str\n",
        "    except:\n",
        "      next\n",
        "\n",
        "    print(f'Product URL: {product_url}')\n",
        "    print(f'Offer Time: {offer_time}')\n"
      ],
      "metadata": {
        "colab": {
          "base_uri": "https://localhost:8080/"
        },
        "id": "3St0NouCIhI4",
        "outputId": "b9bf8f0e-fa45-4251-a502-db3e8cc6cd88"
      },
      "execution_count": null,
      "outputs": [
        {
          "output_type": "stream",
          "name": "stdout",
          "text": [
            "Product URL: https://www.amazon.it/telescopica-foratura-armadio-progetti-diametro/dp/B0B2P6XFCH?pf_rd_r=ZBDJ72Q8EEP923K4QK63&pf_rd_t=Events&pf_rd_i=deals&pf_rd_p=625f4ee2-9c7d-4cb3-8da6-d5915b990e77&pf_rd_s=slot-14&ref=dlx_deals_gd_dcl_img_60_36750c5c_dt_sl14_77\n",
            "Offer Time: tempo\n",
            "Product URL: https://www.amazon.it/YD-LIFE-Illuminazione-Movimento-Impermeabile/dp/B0CMV2CTNQ?pf_rd_r=ZBDJ72Q8EEP923K4QK63&pf_rd_t=Events&pf_rd_i=deals&pf_rd_p=625f4ee2-9c7d-4cb3-8da6-d5915b990e77&pf_rd_s=slot-14&ref=dlx_deals_gd_dcl_img_61_033fd6ba_dt_sl14_77\n",
            "Offer Time: tempo\n",
            "Product URL: https://www.amazon.it/OBVHNUA-Torretta-Multipresa-Verticale-Elettrica/dp/B09SPQPV44?pf_rd_r=ZBDJ72Q8EEP923K4QK63&pf_rd_t=Events&pf_rd_i=deals&pf_rd_p=625f4ee2-9c7d-4cb3-8da6-d5915b990e77&pf_rd_s=slot-14&ref=dlx_deals_gd_dcl_img_62_fa4b78dd_dt_sl14_77\n",
            "Offer Time: tempo\n",
            "Product URL: https://www.amazon.it/Tigratigro-Pennini-sensibilit%C3%A0-capacitiva-Universale/dp/B0B9N7QY1R?pf_rd_r=ZBDJ72Q8EEP923K4QK63&pf_rd_t=Events&pf_rd_i=deals&pf_rd_p=625f4ee2-9c7d-4cb3-8da6-d5915b990e77&pf_rd_s=slot-14&ref=dlx_deals_gd_dcl_img_63_1e4c5800_dt_sl14_77\n",
            "Offer Time: tempo\n",
            "Product URL: https://www.amazon.it/Coquimbo-Accessori-Trasporto-Principianti-Emergenza/dp/B0BQYLCBWT?pf_rd_r=ZBDJ72Q8EEP923K4QK63&pf_rd_t=Events&pf_rd_i=deals&pf_rd_p=625f4ee2-9c7d-4cb3-8da6-d5915b990e77&pf_rd_s=slot-14&ref=dlx_deals_gd_dcl_img_64_041adac4_dt_sl14_77\n",
            "Offer Time: tempo\n",
            "Product URL: https://www.amazon.it/CAMBIVO-gomitiere-protezione-articolazioni-compressione/dp/B07TZM7SXM?pf_rd_r=ZBDJ72Q8EEP923K4QK63&pf_rd_t=Events&pf_rd_i=deals&pf_rd_p=625f4ee2-9c7d-4cb3-8da6-d5915b990e77&pf_rd_s=slot-14&ref=dlx_deals_gd_dcl_img_65_6d42dfdd_dt_sl14_77\n",
            "Offer Time: tempo\n",
            "Product URL: https://www.amazon.it/Diamond-Painting-Completo-Diamante-Decorazioni/dp/B0B8VRK23P?pf_rd_r=ZBDJ72Q8EEP923K4QK63&pf_rd_t=Events&pf_rd_i=deals&pf_rd_p=625f4ee2-9c7d-4cb3-8da6-d5915b990e77&pf_rd_s=slot-14&ref=dlx_deals_gd_dcl_img_66_4c5d5378_dt_sl14_77\n",
            "Offer Time: tempo\n",
            "Product URL: https://www.amazon.it/Lumengqi-Portachiavi-Regalo-Regali-Compleanno/dp/B09MQ5PK87?pf_rd_r=ZBDJ72Q8EEP923K4QK63&pf_rd_t=Events&pf_rd_i=deals&pf_rd_p=625f4ee2-9c7d-4cb3-8da6-d5915b990e77&pf_rd_s=slot-14&ref=dlx_deals_gd_dcl_img_67_8d07946b_dt_sl14_77\n",
            "Offer Time: tempo\n",
            "Product URL: https://www.amazon.it/Edifier-Lite-Annullamento-Riproduzione-Comfortevole/dp/B0CG8XGRMP?pf_rd_r=ZBDJ72Q8EEP923K4QK63&pf_rd_t=Events&pf_rd_i=deals&pf_rd_p=625f4ee2-9c7d-4cb3-8da6-d5915b990e77&pf_rd_s=slot-14&ref=dlx_deals_gd_dcl_img_68_95880e6e_dt_sl14_77\n",
            "Offer Time: tempo\n",
            "Product URL: https://www.amazon.it/TECLAST-Pollici-T40S-2TB%EF%BC%89Android-2000x1200/dp/B0BYJ8S5FV?pf_rd_r=ZBDJ72Q8EEP923K4QK63&pf_rd_t=Events&pf_rd_i=deals&pf_rd_p=625f4ee2-9c7d-4cb3-8da6-d5915b990e77&pf_rd_s=slot-14&ref=dlx_deals_gd_dcl_img_69_e4141742_dt_sl14_77\n",
            "Offer Time: tempo\n",
            "Product URL: https://www.amazon.it/Orecchie-Riutilizzabili-Impermeabili-Protezione-dellorecchio/dp/B0C6QL5G3F?pf_rd_r=ZBDJ72Q8EEP923K4QK63&pf_rd_t=Events&pf_rd_i=deals&pf_rd_p=625f4ee2-9c7d-4cb3-8da6-d5915b990e77&pf_rd_s=slot-14&ref=dlx_deals_gd_dcl_img_70_d4c98a45_dt_sl14_77\n",
            "Offer Time: tempo\n",
            "Product URL: https://www.amazon.it/Saldatrice-AWithZ-saldatrice-automatica-ingranaggi/dp/B0CC2FXYYN?pf_rd_r=ZBDJ72Q8EEP923K4QK63&pf_rd_t=Events&pf_rd_i=deals&pf_rd_p=625f4ee2-9c7d-4cb3-8da6-d5915b990e77&pf_rd_s=slot-14&ref=dlx_deals_gd_dcl_img_71_f0906c22_dt_sl14_77\n",
            "Offer Time: tempo\n",
            "Product URL: https://www.amazon.it/RuiDaXiang-aspirapolvere-Giocattolo-Elettrico-ecompleanno/dp/B08DL5Z5LT?pf_rd_r=ZBDJ72Q8EEP923K4QK63&pf_rd_t=Events&pf_rd_i=deals&pf_rd_p=625f4ee2-9c7d-4cb3-8da6-d5915b990e77&pf_rd_s=slot-14&ref=dlx_deals_gd_dcl_img_72_834c12a7_dt_sl14_77\n",
            "Offer Time: tempo\n",
            "Product URL: https://www.amazon.it/Tripod-System-Cayer-BV30L-pollici/dp/B078X8TKRL?pf_rd_r=ZBDJ72Q8EEP923K4QK63&pf_rd_t=Events&pf_rd_i=deals&pf_rd_p=625f4ee2-9c7d-4cb3-8da6-d5915b990e77&pf_rd_s=slot-14&ref=dlx_deals_gd_dcl_img_73_dbc0fbc5_dt_sl14_77\n",
            "Offer Time: tempo\n",
            "Product URL: https://www.amazon.it/Dispenser-sapone-automatico-distributore-impermeabile/dp/B0C2ZBHYP5?pf_rd_r=ZBDJ72Q8EEP923K4QK63&pf_rd_t=Events&pf_rd_i=deals&pf_rd_p=625f4ee2-9c7d-4cb3-8da6-d5915b990e77&pf_rd_s=slot-14&ref=dlx_deals_gd_dcl_img_74_c80cb10e_dt_sl14_77\n",
            "Offer Time: tempo\n",
            "Product URL: https://www.amazon.it/Unicorno-Rotazione-Proiettore-Giocattoli-Compleanno/dp/B091FJMYHV?pf_rd_r=ZBDJ72Q8EEP923K4QK63&pf_rd_t=Events&pf_rd_i=deals&pf_rd_p=625f4ee2-9c7d-4cb3-8da6-d5915b990e77&pf_rd_s=slot-14&ref=dlx_deals_gd_dcl_img_75_ce7f014a_dt_sl14_77\n",
            "Offer Time: tempo\n",
            "Product URL: https://www.amazon.it/inchiostro-riutilizzabili-prescolari-Scanalature-ingrandita/dp/B09CYXJPK7?pf_rd_r=ZBDJ72Q8EEP923K4QK63&pf_rd_t=Events&pf_rd_i=deals&pf_rd_p=625f4ee2-9c7d-4cb3-8da6-d5915b990e77&pf_rd_s=slot-14&ref=dlx_deals_gd_dcl_img_76_e1099d7f_dt_sl14_77\n",
            "Offer Time: tempo\n",
            "Product URL: https://www.amazon.it/TAOCOCO-Copriseduta-Elasticizzato-Protezione-Cioccolato/dp/B08NK1HBMZ?pf_rd_r=ZBDJ72Q8EEP923K4QK63&pf_rd_t=Events&pf_rd_i=deals&pf_rd_p=625f4ee2-9c7d-4cb3-8da6-d5915b990e77&pf_rd_s=slot-14&ref=dlx_deals_gd_dcl_img_77_3816f843_dt_sl14_77\n",
            "Offer Time: tempo\n",
            "Product URL: https://www.amazon.it/Small-Orecchini-Cerchio-Chiaro-Anallergici/dp/B0BD1GBCQL?pf_rd_r=ZBDJ72Q8EEP923K4QK63&pf_rd_t=Events&pf_rd_i=deals&pf_rd_p=625f4ee2-9c7d-4cb3-8da6-d5915b990e77&pf_rd_s=slot-14&ref=dlx_deals_gd_dcl_img_78_387309ed_dt_sl14_77\n",
            "Offer Time: tempo\n",
            "Product URL: https://www.amazon.it/Pokemon-Segreto-Lucchetto-Cancelleria-Ufficiale/dp/B0BHKS2HCL?pf_rd_r=ZBDJ72Q8EEP923K4QK63&pf_rd_t=Events&pf_rd_i=deals&pf_rd_p=625f4ee2-9c7d-4cb3-8da6-d5915b990e77&pf_rd_s=slot-14&ref=dlx_deals_gd_dcl_img_79_e536f205_dt_sl14_77\n",
            "Offer Time: tempo\n",
            "Product URL: https://www.amazon.it/Coperta-cappuccio-coperta-oversize-adolescenti/dp/B099W37WKJ?pf_rd_r=ZBDJ72Q8EEP923K4QK63&pf_rd_t=Events&pf_rd_i=deals&pf_rd_p=625f4ee2-9c7d-4cb3-8da6-d5915b990e77&pf_rd_s=slot-14&ref=dlx_deals_gd_dcl_img_80_b534b583_dt_sl14_77\n",
            "Offer Time: tempo\n",
            "Product URL: https://www.amazon.it/IPSXP-Bicicletta-Impermeabile-Ricaricabili-Biciclette/dp/B0BG2G336R?pf_rd_r=ZBDJ72Q8EEP923K4QK63&pf_rd_t=Events&pf_rd_i=deals&pf_rd_p=625f4ee2-9c7d-4cb3-8da6-d5915b990e77&pf_rd_s=slot-14&ref=dlx_deals_gd_dcl_img_81_0d8d1c25_dt_sl14_77\n",
            "Offer Time: tempo\n",
            "Product URL: https://www.amazon.it/LDRFSE-Sneakers-Skateboard-Palestra-Multiuso/dp/B09TXB3GBQ?pf_rd_r=ZBDJ72Q8EEP923K4QK63&pf_rd_t=Events&pf_rd_i=deals&pf_rd_p=625f4ee2-9c7d-4cb3-8da6-d5915b990e77&pf_rd_s=slot-14&ref=dlx_deals_gd_dcl_img_82_9b9e304c_dt_sl14_77\n",
            "Offer Time: tempo\n",
            "Product URL: https://www.amazon.it/GGII-lampada-livelli-dimmerabili-ricaricabile/dp/B0CDX8XMY4?pf_rd_r=ZBDJ72Q8EEP923K4QK63&pf_rd_t=Events&pf_rd_i=deals&pf_rd_p=625f4ee2-9c7d-4cb3-8da6-d5915b990e77&pf_rd_s=slot-14&ref=dlx_deals_gd_dcl_img_83_75d39612_dt_sl14_77\n",
            "Offer Time: tempo\n",
            "Product URL: https://www.amazon.it/jumper-Octa-Core-Android-Altoparlanti-Fotocamera/dp/B0CSK46NL9?pf_rd_r=ZBDJ72Q8EEP923K4QK63&pf_rd_t=Events&pf_rd_i=deals&pf_rd_p=625f4ee2-9c7d-4cb3-8da6-d5915b990e77&pf_rd_s=slot-14&ref=dlx_deals_gd_dcl_img_84_2a17b305_dt_sl14_77\n",
            "Offer Time: tempo\n",
            "Product URL: https://www.amazon.it/Hp-hope-durevole-impermeabile-resistente/dp/B0CQY4TWBW?pf_rd_r=ZBDJ72Q8EEP923K4QK63&pf_rd_t=Events&pf_rd_i=deals&pf_rd_p=625f4ee2-9c7d-4cb3-8da6-d5915b990e77&pf_rd_s=slot-14&ref=dlx_deals_gd_dcl_img_85_b468c5f7_dt_sl14_77\n",
            "Offer Time: tempo\n",
            "Product URL: https://www.amazon.it/Flintronic-Manubrio-Portaborse-Impermeabile-Funzione/dp/B09CGDMKHX?pf_rd_r=ZBDJ72Q8EEP923K4QK63&pf_rd_t=Events&pf_rd_i=deals&pf_rd_p=625f4ee2-9c7d-4cb3-8da6-d5915b990e77&pf_rd_s=slot-14&ref=dlx_deals_gd_dcl_img_86_c4c7191d_dt_sl14_77\n",
            "Offer Time: tempo\n",
            "Product URL: https://www.amazon.it/Mamowla-Astuccio-Capacit%C3%A0-Portapenne-Compleanno/dp/B09SNZRX6G?pf_rd_r=ZBDJ72Q8EEP923K4QK63&pf_rd_t=Events&pf_rd_i=deals&pf_rd_p=625f4ee2-9c7d-4cb3-8da6-d5915b990e77&pf_rd_s=slot-14&ref=dlx_deals_gd_dcl_img_87_017e1484_dt_sl14_77\n",
            "Offer Time: tempo\n",
            "Product URL: https://www.amazon.it/Pietre-affilare-coltelli-Professionale-affilacoltelli/dp/B0BBFD7M1Y?pf_rd_r=ZBDJ72Q8EEP923K4QK63&pf_rd_t=Events&pf_rd_i=deals&pf_rd_p=625f4ee2-9c7d-4cb3-8da6-d5915b990e77&pf_rd_s=slot-14&ref=dlx_deals_gd_dcl_img_88_2ba11284_dt_sl14_77\n",
            "Offer Time: tempo\n",
            "Product URL: https://www.amazon.it/Striscia-2835-Luminous-Adesiva-Impermeabile/dp/B0BHCR25L8?pf_rd_r=ZBDJ72Q8EEP923K4QK63&pf_rd_t=Events&pf_rd_i=deals&pf_rd_p=625f4ee2-9c7d-4cb3-8da6-d5915b990e77&pf_rd_s=slot-14&ref=dlx_deals_gd_dcl_img_89_b43495a5_dt_sl14_77\n",
            "Offer Time: tempo\n",
            "Product URL: https://www.amazon.it/Tappetto-60x90-Pelliccia-Sintetica-Soggiorno/dp/B0BPC9LJH2?pf_rd_r=ZBDJ72Q8EEP923K4QK63&pf_rd_t=Events&pf_rd_i=deals&pf_rd_p=625f4ee2-9c7d-4cb3-8da6-d5915b990e77&pf_rd_s=slot-14&ref=dlx_deals_gd_dcl_img_90_e8f9bbe8_dt_sl14_77\n",
            "Offer Time: tempo\n",
            "Product URL: https://www.amazon.it/Caricatore-Wireless-Mag-Safe-Pieghevole-caricatore/dp/B0CMGF3F7K?pf_rd_r=ZBDJ72Q8EEP923K4QK63&pf_rd_t=Events&pf_rd_i=deals&pf_rd_p=625f4ee2-9c7d-4cb3-8da6-d5915b990e77&pf_rd_s=slot-14&ref=dlx_deals_gd_dcl_img_91_ccc6cea9_dt_sl14_77\n",
            "Offer Time: tempo\n",
            "Product URL: https://www.amazon.it/Giochi-Bambini-Anni-Montessori-Educativi/dp/B0C1N7NTPW?pf_rd_r=ZBDJ72Q8EEP923K4QK63&pf_rd_t=Events&pf_rd_i=deals&pf_rd_p=625f4ee2-9c7d-4cb3-8da6-d5915b990e77&pf_rd_s=slot-14&ref=dlx_deals_gd_dcl_img_92_958cb5be_dt_sl14_77\n",
            "Offer Time: tempo\n",
            "Product URL: https://www.amazon.it/Macinacaff%C3%A8-Elettrico-Macinino-Inossidabile-Detachable/dp/B09Y55YSYY?pf_rd_r=ZBDJ72Q8EEP923K4QK63&pf_rd_t=Events&pf_rd_i=deals&pf_rd_p=625f4ee2-9c7d-4cb3-8da6-d5915b990e77&pf_rd_s=slot-14&ref=dlx_deals_gd_dcl_img_93_58f91179_dt_sl14_77\n",
            "Offer Time: tempo\n",
            "Product URL: https://www.amazon.it/KEROMEE-Aspirapolvere-aspirapolvere-aspirazione-piastrelle/dp/B0C5Q2NQKF?pf_rd_r=ZBDJ72Q8EEP923K4QK63&pf_rd_t=Events&pf_rd_i=deals&pf_rd_p=625f4ee2-9c7d-4cb3-8da6-d5915b990e77&pf_rd_s=slot-14&ref=dlx_deals_gd_dcl_img_94_6bf20cd8_dt_sl14_77\n",
            "Offer Time: tempo\n",
            "Product URL: https://www.amazon.it/CIVO-Impermeabile-Cinturino-Inossidabile-Analogici/dp/B09RZKPF5F?pf_rd_r=ZBDJ72Q8EEP923K4QK63&pf_rd_t=Events&pf_rd_i=deals&pf_rd_p=625f4ee2-9c7d-4cb3-8da6-d5915b990e77&pf_rd_s=slot-14&ref=dlx_deals_gd_dcl_img_95_a6c43828_dt_sl14_77\n",
            "Offer Time: tempo\n",
            "Product URL: https://www.amazon.it/YUDOXN-Multifunzionale-Impermeabile-Resistente-Pieghevole/dp/B09PY359GT?pf_rd_r=ZBDJ72Q8EEP923K4QK63&pf_rd_t=Events&pf_rd_i=deals&pf_rd_p=625f4ee2-9c7d-4cb3-8da6-d5915b990e77&pf_rd_s=slot-14&ref=dlx_deals_gd_dcl_img_96_b7379fdd_dt_sl14_77\n",
            "Offer Time: tempo\n",
            "Product URL: https://www.amazon.it/Universali-Girevoli-Pavimenti-Protegge-Pavimento/dp/B08R88WZ4Q?pf_rd_r=ZBDJ72Q8EEP923K4QK63&pf_rd_t=Events&pf_rd_i=deals&pf_rd_p=625f4ee2-9c7d-4cb3-8da6-d5915b990e77&pf_rd_s=slot-14&ref=dlx_deals_gd_dcl_img_97_a856ab50_dt_sl14_77\n",
            "Offer Time: tempo\n",
            "Product URL: https://www.amazon.it/Uping-Puzzle-Magnetico-Lavagna-Bambini/dp/B0815TLT4J?pf_rd_r=ZBDJ72Q8EEP923K4QK63&pf_rd_t=Events&pf_rd_i=deals&pf_rd_p=625f4ee2-9c7d-4cb3-8da6-d5915b990e77&pf_rd_s=slot-14&ref=dlx_deals_gd_dcl_img_98_cd150c81_dt_sl14_77\n",
            "Offer Time: tempo\n",
            "Product URL: https://www.amazon.it/Scaldamani-Elettrico-OUTJUT-Ricaricabile-riscaldamento/dp/B0CG9QWJ37?pf_rd_r=ZBDJ72Q8EEP923K4QK63&pf_rd_t=Events&pf_rd_i=deals&pf_rd_p=625f4ee2-9c7d-4cb3-8da6-d5915b990e77&pf_rd_s=slot-14&ref=dlx_deals_gd_dcl_img_99_d4f0f72c_dt_sl14_77\n",
            "Offer Time: tempo\n",
            "Product URL: https://www.amazon.it/dp/B07VPVS9CM?pf_rd_r=ZBDJ72Q8EEP923K4QK63&pf_rd_t=Events&pf_rd_i=deals&pf_rd_p=625f4ee2-9c7d-4cb3-8da6-d5915b990e77&pf_rd_s=slot-14&ref=dlx_deals_gd_dcl_img_100_ee7fec73_dt_sl14_77\n",
            "Offer Time: tempo\n",
            "Product URL: https://www.amazon.it/Toolight-Applique-Acrilico-Soggiorno-Corridoio/dp/B0CDCBG6GS?pf_rd_r=ZBDJ72Q8EEP923K4QK63&pf_rd_t=Events&pf_rd_i=deals&pf_rd_p=625f4ee2-9c7d-4cb3-8da6-d5915b990e77&pf_rd_s=slot-14&ref=dlx_deals_gd_dcl_img_101_873b816d_dt_sl14_77\n",
            "Offer Time: tempo\n",
            "Product URL: https://www.amazon.it/Yorbay-Immagazzinaggio-Pieghevole-Contenitori-Riutilizzabile/dp/B083HVY98Q?pf_rd_r=ZBDJ72Q8EEP923K4QK63&pf_rd_t=Events&pf_rd_i=deals&pf_rd_p=625f4ee2-9c7d-4cb3-8da6-d5915b990e77&pf_rd_s=slot-14&ref=dlx_deals_gd_dcl_img_102_75d20b72_dt_sl14_77\n",
            "Offer Time: tempo\n",
            "Product URL: https://www.amazon.it/KITHDIA-Occhiali-Polarizzate-Donna-Astine/dp/B07QCKDKT1?pf_rd_r=ZBDJ72Q8EEP923K4QK63&pf_rd_t=Events&pf_rd_i=deals&pf_rd_p=625f4ee2-9c7d-4cb3-8da6-d5915b990e77&pf_rd_s=slot-14&ref=dlx_deals_gd_dcl_img_103_f8166fb2_dt_sl14_77\n",
            "Offer Time: tempo\n",
            "Product URL: https://www.amazon.it/Rumkok-Pelliccia-Invernali-Impermeabili-Stivaletti/dp/B0CH645JSF?pf_rd_r=ZBDJ72Q8EEP923K4QK63&pf_rd_t=Events&pf_rd_i=deals&pf_rd_p=625f4ee2-9c7d-4cb3-8da6-d5915b990e77&pf_rd_s=slot-14&ref=dlx_deals_gd_dcl_img_104_0ec717ca_dt_sl14_77\n",
            "Offer Time: tempo\n",
            "Product URL: https://www.amazon.it/Liene-Fotografica-Istantanea-50-Connessione/dp/B0BHPHZ1SW?pf_rd_r=ZBDJ72Q8EEP923K4QK63&pf_rd_t=Events&pf_rd_i=deals&pf_rd_p=625f4ee2-9c7d-4cb3-8da6-d5915b990e77&pf_rd_s=slot-14&ref=dlx_deals_gd_dcl_img_105_1fbb2866_dt_sl14_77\n",
            "Offer Time: tempo\n",
            "Product URL: https://www.amazon.it/Convertitore-SUNNATCH-Adattatore-Ingresso-Supporta/dp/B09B15DY5N?pf_rd_r=ZBDJ72Q8EEP923K4QK63&pf_rd_t=Events&pf_rd_i=deals&pf_rd_p=625f4ee2-9c7d-4cb3-8da6-d5915b990e77&pf_rd_s=slot-14&ref=dlx_deals_gd_dcl_img_106_1c2d25d3_dt_sl14_77\n",
            "Offer Time: tempo\n",
            "Product URL: https://www.amazon.it/Quikbee-iPhone-antiscivolo-cristallina-ingiallente/dp/B0CG6PSYCP?pf_rd_r=ZBDJ72Q8EEP923K4QK63&pf_rd_t=Events&pf_rd_i=deals&pf_rd_p=625f4ee2-9c7d-4cb3-8da6-d5915b990e77&pf_rd_s=slot-14&ref=dlx_deals_gd_dcl_img_107_5b5a040f_dt_sl14_77\n",
            "Offer Time: tempo\n",
            "Product URL: https://www.amazon.it/TIANSHU-Copridivano-Velluto-Copridivani-1-Pezzo/dp/B0816CK7H3?pf_rd_r=ZBDJ72Q8EEP923K4QK63&pf_rd_t=Events&pf_rd_i=deals&pf_rd_p=625f4ee2-9c7d-4cb3-8da6-d5915b990e77&pf_rd_s=slot-14&ref=dlx_deals_gd_dcl_img_108_3b16e7d4_dt_sl14_77\n",
            "Offer Time: tempo\n",
            "Product URL: https://www.amazon.it/Portafoglio-Compatto-Portatile-Borsellino-portamonete/dp/B09LHCPWMF?pf_rd_r=ZBDJ72Q8EEP923K4QK63&pf_rd_t=Events&pf_rd_i=deals&pf_rd_p=625f4ee2-9c7d-4cb3-8da6-d5915b990e77&pf_rd_s=slot-14&ref=dlx_deals_gd_dcl_img_109_737f251a_dt_sl14_77\n",
            "Offer Time: tempo\n",
            "Product URL: https://www.amazon.it/GOLF-SUPAGS-Portatili-Computer-Impermeabile/dp/B0CBJW755R?pf_rd_r=ZBDJ72Q8EEP923K4QK63&pf_rd_t=Events&pf_rd_i=deals&pf_rd_p=625f4ee2-9c7d-4cb3-8da6-d5915b990e77&pf_rd_s=slot-14&ref=dlx_deals_gd_dcl_img_110_fddc7d3d_dt_sl14_77\n",
            "Offer Time: tempo\n",
            "Product URL: https://www.amazon.it/SUPRENT-Regolabarba-regolabile-regolazioni-regolabarba/dp/B07TDKDCMX?pf_rd_r=ZBDJ72Q8EEP923K4QK63&pf_rd_t=Events&pf_rd_i=deals&pf_rd_p=625f4ee2-9c7d-4cb3-8da6-d5915b990e77&pf_rd_s=slot-14&ref=dlx_deals_gd_dcl_img_111_f6393f11_dt_sl14_77\n",
            "Offer Time: tempo\n",
            "Product URL: https://www.amazon.it/Pettorina-norvegese-catarifrangente-regolabile-Imbragatura/dp/B07D814Z8Y?pf_rd_r=ZBDJ72Q8EEP923K4QK63&pf_rd_t=Events&pf_rd_i=deals&pf_rd_p=625f4ee2-9c7d-4cb3-8da6-d5915b990e77&pf_rd_s=slot-14&ref=dlx_deals_gd_dcl_img_112_30f8a5d7_dt_sl14_77\n",
            "Offer Time: tempo\n",
            "Product URL: https://www.amazon.it/Lamto-Autoradio-Touchscreen-Assistente-Bluetooth/dp/B0CLV6NGMV?pf_rd_r=ZBDJ72Q8EEP923K4QK63&pf_rd_t=Events&pf_rd_i=deals&pf_rd_p=625f4ee2-9c7d-4cb3-8da6-d5915b990e77&pf_rd_s=slot-14&ref=dlx_deals_gd_dcl_img_113_de446cd8_dt_sl14_77\n",
            "Offer Time: tempo\n",
            "Product URL: https://www.amazon.it/SOARAISE-Caricatore-Portatile-Powerbank-Smartphone/dp/B0BN87LN95?pf_rd_r=ZBDJ72Q8EEP923K4QK63&pf_rd_t=Events&pf_rd_i=deals&pf_rd_p=625f4ee2-9c7d-4cb3-8da6-d5915b990e77&pf_rd_s=slot-14&ref=dlx_deals_gd_dcl_img_114_44481e8e_dt_sl14_77\n",
            "Offer Time: tempo\n",
            "Product URL: https://www.amazon.it/GGNOO-Ricaricabile-Dimmerabile-Impermeabile-Multicolore/dp/B0B56BH829?pf_rd_r=ZBDJ72Q8EEP923K4QK63&pf_rd_t=Events&pf_rd_i=deals&pf_rd_p=625f4ee2-9c7d-4cb3-8da6-d5915b990e77&pf_rd_s=slot-14&ref=dlx_deals_gd_dcl_img_115_fbf8add3_dt_sl14_77\n",
            "Offer Time: tempo\n",
            "Product URL: https://www.amazon.it/Borraccia-waterdrop%C2%AE-lavastoviglie-Sostenibile-Riutilizzabile/dp/B0B7P13HTV?pf_rd_r=ZBDJ72Q8EEP923K4QK63&pf_rd_t=Events&pf_rd_i=deals&pf_rd_p=625f4ee2-9c7d-4cb3-8da6-d5915b990e77&pf_rd_s=slot-14&ref=dlx_deals_gd_dcl_img_116_f585d854_dt_sl14_77\n",
            "Offer Time: tempo\n",
            "Product URL: https://www.amazon.it/Macchina-Fotografica-Istantanea-ricarica-Fotocamera/dp/B0CB41FB51?pf_rd_r=ZBDJ72Q8EEP923K4QK63&pf_rd_t=Events&pf_rd_i=deals&pf_rd_p=625f4ee2-9c7d-4cb3-8da6-d5915b990e77&pf_rd_s=slot-14&ref=dlx_deals_gd_dcl_img_117_1788b67c_dt_sl14_77\n",
            "Offer Time: tempo\n",
            "Product URL: https://www.amazon.it/Cleaner-shampoo-risciacquo-domestici-silicone/dp/B0CGT6DG1B?pf_rd_r=ZBDJ72Q8EEP923K4QK63&pf_rd_t=Events&pf_rd_i=deals&pf_rd_p=625f4ee2-9c7d-4cb3-8da6-d5915b990e77&pf_rd_s=slot-14&ref=dlx_deals_gd_dcl_img_118_80895387_dt_sl14_77\n",
            "Offer Time: tempo\n",
            "Product URL: https://www.amazon.it/KICHLY-Confezione-Tovaglioli-Ristorante-Pollici/dp/B07TW6DT5J?pf_rd_r=ZBDJ72Q8EEP923K4QK63&pf_rd_t=Events&pf_rd_i=deals&pf_rd_p=625f4ee2-9c7d-4cb3-8da6-d5915b990e77&pf_rd_s=slot-14&ref=dlx_deals_gd_dcl_img_119_94076797_dt_sl14_77\n",
            "Offer Time: tempo\n"
          ]
        }
      ]
    }
  ]
}