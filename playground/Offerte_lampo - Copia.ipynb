{
  "cells": [
    {
      "cell_type": "code",
      "execution_count": null,
      "metadata": {},
      "outputs": [],
      "source": [
        "pip install pandas"
      ]
    },
    {
      "cell_type": "code",
      "execution_count": null,
      "metadata": {},
      "outputs": [],
      "source": [
        "pip install bs4"
      ]
    },
    {
      "cell_type": "code",
      "execution_count": 9,
      "metadata": {
        "id": "33eoyyLh-q6Y"
      },
      "outputs": [],
      "source": [
        "import sys\n",
        "import time\n",
        "import pandas as pd\n",
        "from bs4 import BeautifulSoup\n",
        "from datetime import datetime\n",
        "import re\n",
        "import json\n",
        "import requests"
      ]
    },
    {
      "cell_type": "code",
      "execution_count": 14,
      "metadata": {},
      "outputs": [
        {
          "ename": "NoSuchDriverException",
          "evalue": "Message: Unable to obtain driver for chrome; For documentation on this error, please visit: https://www.selenium.dev/documentation/webdriver/troubleshooting/errors/driver_location\n",
          "output_type": "error",
          "traceback": [
            "\u001b[0;31m---------------------------------------------------------------------------\u001b[0m",
            "\u001b[0;31mValueError\u001b[0m                                Traceback (most recent call last)",
            "File \u001b[0;32m/usr/local/lib/python3.8/dist-packages/selenium/webdriver/common/driver_finder.py:64\u001b[0m, in \u001b[0;36mDriverFinder._binary_paths\u001b[0;34m(self)\u001b[0m\n\u001b[1;32m     63\u001b[0m \u001b[38;5;28;01mif\u001b[39;00m \u001b[38;5;129;01mnot\u001b[39;00m Path(path)\u001b[38;5;241m.\u001b[39mis_file():\n\u001b[0;32m---> 64\u001b[0m     \u001b[38;5;28;01mraise\u001b[39;00m \u001b[38;5;167;01mValueError\u001b[39;00m(\u001b[38;5;124mf\u001b[39m\u001b[38;5;124m\"\u001b[39m\u001b[38;5;124mThe path is not a valid file: \u001b[39m\u001b[38;5;132;01m{\u001b[39;00mpath\u001b[38;5;132;01m}\u001b[39;00m\u001b[38;5;124m\"\u001b[39m)\n\u001b[1;32m     65\u001b[0m \u001b[38;5;28mself\u001b[39m\u001b[38;5;241m.\u001b[39m_paths[\u001b[38;5;124m\"\u001b[39m\u001b[38;5;124mdriver_path\u001b[39m\u001b[38;5;124m\"\u001b[39m] \u001b[38;5;241m=\u001b[39m path\n",
            "\u001b[0;31mValueError\u001b[0m: The path is not a valid file: fabiodc/chromedriver-linux64/chromedriver",
            "\nThe above exception was the direct cause of the following exception:\n",
            "\u001b[0;31mNoSuchDriverException\u001b[0m                     Traceback (most recent call last)",
            "Cell \u001b[0;32mIn[14], line 28\u001b[0m\n\u001b[1;32m     25\u001b[0m webdriver_service \u001b[38;5;241m=\u001b[39m Service(\u001b[38;5;124mf\u001b[39m\u001b[38;5;124m\"\u001b[39m\u001b[38;5;132;01m{\u001b[39;00mhomedir\u001b[38;5;132;01m}\u001b[39;00m\u001b[38;5;124m/chromedriver-linux64/chromedriver\u001b[39m\u001b[38;5;124m\"\u001b[39m)\n\u001b[1;32m     27\u001b[0m \u001b[38;5;66;03m# Choose Chrome Browser\u001b[39;00m\n\u001b[0;32m---> 28\u001b[0m driver \u001b[38;5;241m=\u001b[39m \u001b[43mwebdriver\u001b[49m\u001b[38;5;241;43m.\u001b[39;49m\u001b[43mChrome\u001b[49m\u001b[43m(\u001b[49m\u001b[43mservice\u001b[49m\u001b[38;5;241;43m=\u001b[39;49m\u001b[43mwebdriver_service\u001b[49m\u001b[43m,\u001b[49m\u001b[43m \u001b[49m\u001b[43moptions\u001b[49m\u001b[38;5;241;43m=\u001b[39;49m\u001b[43moptions\u001b[49m\u001b[43m)\u001b[49m\n",
            "File \u001b[0;32m/usr/local/lib/python3.8/dist-packages/selenium/webdriver/chrome/webdriver.py:45\u001b[0m, in \u001b[0;36mWebDriver.__init__\u001b[0;34m(self, options, service, keep_alive)\u001b[0m\n\u001b[1;32m     42\u001b[0m service \u001b[38;5;241m=\u001b[39m service \u001b[38;5;28;01mif\u001b[39;00m service \u001b[38;5;28;01melse\u001b[39;00m Service()\n\u001b[1;32m     43\u001b[0m options \u001b[38;5;241m=\u001b[39m options \u001b[38;5;28;01mif\u001b[39;00m options \u001b[38;5;28;01melse\u001b[39;00m Options()\n\u001b[0;32m---> 45\u001b[0m \u001b[38;5;28;43msuper\u001b[39;49m\u001b[43m(\u001b[49m\u001b[43m)\u001b[49m\u001b[38;5;241;43m.\u001b[39;49m\u001b[38;5;21;43m__init__\u001b[39;49m\u001b[43m(\u001b[49m\n\u001b[1;32m     46\u001b[0m \u001b[43m    \u001b[49m\u001b[43mbrowser_name\u001b[49m\u001b[38;5;241;43m=\u001b[39;49m\u001b[43mDesiredCapabilities\u001b[49m\u001b[38;5;241;43m.\u001b[39;49m\u001b[43mCHROME\u001b[49m\u001b[43m[\u001b[49m\u001b[38;5;124;43m\"\u001b[39;49m\u001b[38;5;124;43mbrowserName\u001b[39;49m\u001b[38;5;124;43m\"\u001b[39;49m\u001b[43m]\u001b[49m\u001b[43m,\u001b[49m\n\u001b[1;32m     47\u001b[0m \u001b[43m    \u001b[49m\u001b[43mvendor_prefix\u001b[49m\u001b[38;5;241;43m=\u001b[39;49m\u001b[38;5;124;43m\"\u001b[39;49m\u001b[38;5;124;43mgoog\u001b[39;49m\u001b[38;5;124;43m\"\u001b[39;49m\u001b[43m,\u001b[49m\n\u001b[1;32m     48\u001b[0m \u001b[43m    \u001b[49m\u001b[43moptions\u001b[49m\u001b[38;5;241;43m=\u001b[39;49m\u001b[43moptions\u001b[49m\u001b[43m,\u001b[49m\n\u001b[1;32m     49\u001b[0m \u001b[43m    \u001b[49m\u001b[43mservice\u001b[49m\u001b[38;5;241;43m=\u001b[39;49m\u001b[43mservice\u001b[49m\u001b[43m,\u001b[49m\n\u001b[1;32m     50\u001b[0m \u001b[43m    \u001b[49m\u001b[43mkeep_alive\u001b[49m\u001b[38;5;241;43m=\u001b[39;49m\u001b[43mkeep_alive\u001b[49m\u001b[43m,\u001b[49m\n\u001b[1;32m     51\u001b[0m \u001b[43m\u001b[49m\u001b[43m)\u001b[49m\n",
            "File \u001b[0;32m/usr/local/lib/python3.8/dist-packages/selenium/webdriver/chromium/webdriver.py:50\u001b[0m, in \u001b[0;36mChromiumDriver.__init__\u001b[0;34m(self, browser_name, vendor_prefix, options, service, keep_alive)\u001b[0m\n\u001b[1;32m     47\u001b[0m \u001b[38;5;28mself\u001b[39m\u001b[38;5;241m.\u001b[39mservice \u001b[38;5;241m=\u001b[39m service\n\u001b[1;32m     49\u001b[0m finder \u001b[38;5;241m=\u001b[39m DriverFinder(\u001b[38;5;28mself\u001b[39m\u001b[38;5;241m.\u001b[39mservice, options)\n\u001b[0;32m---> 50\u001b[0m \u001b[38;5;28;01mif\u001b[39;00m \u001b[43mfinder\u001b[49m\u001b[38;5;241;43m.\u001b[39;49m\u001b[43mget_browser_path\u001b[49m\u001b[43m(\u001b[49m\u001b[43m)\u001b[49m:\n\u001b[1;32m     51\u001b[0m     options\u001b[38;5;241m.\u001b[39mbinary_location \u001b[38;5;241m=\u001b[39m finder\u001b[38;5;241m.\u001b[39mget_browser_path()\n\u001b[1;32m     52\u001b[0m     options\u001b[38;5;241m.\u001b[39mbrowser_version \u001b[38;5;241m=\u001b[39m \u001b[38;5;28;01mNone\u001b[39;00m\n",
            "File \u001b[0;32m/usr/local/lib/python3.8/dist-packages/selenium/webdriver/common/driver_finder.py:47\u001b[0m, in \u001b[0;36mDriverFinder.get_browser_path\u001b[0;34m(self)\u001b[0m\n\u001b[1;32m     46\u001b[0m \u001b[38;5;28;01mdef\u001b[39;00m \u001b[38;5;21mget_browser_path\u001b[39m(\u001b[38;5;28mself\u001b[39m) \u001b[38;5;241m-\u001b[39m\u001b[38;5;241m>\u001b[39m \u001b[38;5;28mstr\u001b[39m:\n\u001b[0;32m---> 47\u001b[0m     \u001b[38;5;28;01mreturn\u001b[39;00m \u001b[38;5;28;43mself\u001b[39;49m\u001b[38;5;241;43m.\u001b[39;49m\u001b[43m_binary_paths\u001b[49m\u001b[43m(\u001b[49m\u001b[43m)\u001b[49m[\u001b[38;5;124m\"\u001b[39m\u001b[38;5;124mbrowser_path\u001b[39m\u001b[38;5;124m\"\u001b[39m]\n",
            "File \u001b[0;32m/usr/local/lib/python3.8/dist-packages/selenium/webdriver/common/driver_finder.py:78\u001b[0m, in \u001b[0;36mDriverFinder._binary_paths\u001b[0;34m(self)\u001b[0m\n\u001b[1;32m     76\u001b[0m \u001b[38;5;28;01mexcept\u001b[39;00m \u001b[38;5;167;01mException\u001b[39;00m \u001b[38;5;28;01mas\u001b[39;00m err:\n\u001b[1;32m     77\u001b[0m     msg \u001b[38;5;241m=\u001b[39m \u001b[38;5;124mf\u001b[39m\u001b[38;5;124m\"\u001b[39m\u001b[38;5;124mUnable to obtain driver for \u001b[39m\u001b[38;5;132;01m{\u001b[39;00mbrowser\u001b[38;5;132;01m}\u001b[39;00m\u001b[38;5;124m\"\u001b[39m\n\u001b[0;32m---> 78\u001b[0m     \u001b[38;5;28;01mraise\u001b[39;00m NoSuchDriverException(msg) \u001b[38;5;28;01mfrom\u001b[39;00m \u001b[38;5;21;01merr\u001b[39;00m\n\u001b[1;32m     79\u001b[0m \u001b[38;5;28;01mreturn\u001b[39;00m \u001b[38;5;28mself\u001b[39m\u001b[38;5;241m.\u001b[39m_paths\n",
            "\u001b[0;31mNoSuchDriverException\u001b[0m: Message: Unable to obtain driver for chrome; For documentation on this error, please visit: https://www.selenium.dev/documentation/webdriver/troubleshooting/errors/driver_location\n"
          ]
        }
      ],
      "source": [
        "import os.path\n",
        "from selenium import webdriver\n",
        "from selenium.webdriver.chrome.service import Service\n",
        "from selenium.webdriver.common.by import By\n",
        "from selenium.webdriver.chrome.options import Options\n",
        "from selenium.webdriver.support.ui import WebDriverWait\n",
        "from selenium.webdriver.support import expected_conditions as EC\n",
        "from selenium.webdriver.common.by import By\n",
        "\n",
        "# Instantiate options\n",
        "options = Options()\n",
        "\n",
        "# Add extra options\n",
        "options.add_argument(\"--window-size=1920,1080\")  # Set the window size\n",
        "options.add_argument(\"--disable-infobars\")  # Disable the infobars\n",
        "options.add_argument(\"--disable-popup-blocking\")  # Disable pop-ups\n",
        "options.add_argument(\"--ignore-certificate-errors\")  # Ignore certificate errors\n",
        "options.add_argument('--headless') # ensure GUI is off\n",
        "options.add_argument('--no-sandbox')\n",
        "options.add_argument('--disable-dev-shm-usage')\n",
        "\n",
        "# Set path to chromedriver as per your configuration\n",
        "homedir = \"fabiodc\"\n",
        "options.binary_location = f\"{homedir}/chrome-linux64/chrome\"\n",
        "webdriver_service = Service(f\"{homedir}/chromedriver-linux64/chromedriver\")\n",
        "\n",
        "# Choose Chrome Browser\n",
        "driver = webdriver.Chrome(service=webdriver_service, options=options)"
      ]
    },
    {
      "cell_type": "code",
      "execution_count": 4,
      "metadata": {
        "id": "x0Yv7gGwjmry"
      },
      "outputs": [],
      "source": [
        "\n",
        "db_hash = {}"
      ]
    },
    {
      "cell_type": "code",
      "execution_count": 5,
      "metadata": {
        "colab": {
          "base_uri": "https://localhost:8080/"
        },
        "id": "quQDxf1HAqTD",
        "outputId": "a83d6780-99e8-4e9e-ab88-ad148a8f74d5"
      },
      "outputs": [
        {
          "name": "stdout",
          "output_type": "stream",
          "text": [
            "Public IP Address: 34.106.249.2\n"
          ]
        }
      ],
      "source": [
        "import requests\n",
        "\n",
        "try:\n",
        "    public_ip = requests.get('https://api.ipify.org').text\n",
        "    print(f\"Public IP Address: {public_ip}\")\n",
        "except requests.RequestException as e:\n",
        "    print(f\"Error retrieving public IP address: {e}\")"
      ]
    },
    {
      "cell_type": "code",
      "execution_count": 8,
      "metadata": {
        "id": "Co31hRwGjoQF"
      },
      "outputs": [],
      "source": [
        "url_first = 'https://www.amazon.it/deals?ref_=nav_cs_gb&deals-widget=%257B%2522version%2522%253A1%252C%2522viewIndex%2522%253A'\n",
        "#page is a mutiple of 6 starting from 0, so page 1 is '' page 2 is '6' page 3 is '12' and so on\n",
        "page = '6' #page1\n",
        "url_last = '0%252C%2522presetId%2522%253A%2522deals-collection-lightning-deals%2522%252C%2522dealState%2522%253A%2522UPCOMING%2522%252C%2522dealType%2522%253A%2522LIGHTNING_DEAL%2522%252C%2522sorting%2522%253A%2522FEATURED%2522%257D'\n",
        "url = url_first + page + url_last\n",
        "#driver.get(url)\n",
        "#html = driver.page_source\n",
        "html = get_page_source(url)"
      ]
    },
    {
      "cell_type": "code",
      "execution_count": 11,
      "metadata": {
        "id": "imdXl-8jkEx1"
      },
      "outputs": [],
      "source": [
        "pattern = r'\\{\"widgetId\".*\\}\\)\\n '\n",
        "match = re.search(pattern, html)"
      ]
    },
    {
      "cell_type": "code",
      "execution_count": 12,
      "metadata": {
        "id": "OY8SEtRn8eIR"
      },
      "outputs": [],
      "source": [
        "deals_data = match.group().rstrip(\")\\n \")"
      ]
    },
    {
      "cell_type": "code",
      "execution_count": 13,
      "metadata": {
        "colab": {
          "base_uri": "https://localhost:8080/"
        },
        "id": "wfBJcK0w91mI",
        "outputId": "0eb8d034-2e78-42c9-b89a-5d0b76b766cf"
      },
      "outputs": [
        {
          "data": {
            "text/plain": [
              "167"
            ]
          },
          "execution_count": 13,
          "metadata": {},
          "output_type": "execute_result"
        }
      ],
      "source": [
        "# i'm getting less result for some reason both using selenium or requests, maybe is based on ip?\n",
        "# it's confirmed that i get different offers based on ip, i need an italian ip\n",
        "json.loads(deals_data)['prefetchedData']['aapiSearchDealsTotalCount']"
      ]
    },
    {
      "cell_type": "code",
      "execution_count": null,
      "metadata": {
        "id": "eLEzHghHHXXY"
      },
      "outputs": [],
      "source": [
        "db_hash"
      ]
    },
    {
      "cell_type": "code",
      "execution_count": null,
      "metadata": {
        "id": "TgUyXnwJJnLv"
      },
      "outputs": [],
      "source": [
        "def parse_html_deals_page(html, db_hash):\n",
        "  # Search for the pattern in the script content\n",
        "  pattern = r'\\{\"widgetId\".*\\}\\)\\n '\n",
        "  match = re.search(pattern, html)\n",
        "\n",
        "  # fore some reason i'm not obtaining the first deal of the day\n",
        "  deals_data = match.group().rstrip(\")\\n \")\n",
        "  try:\n",
        "    deals = json.loads(deals_data)['prefetchedData']['aapiGetDealsList'][0]['entities']\n",
        "  except:\n",
        "    print(html)\n",
        "    return\n",
        "\n",
        "  scraped_deals = {}\n",
        "  for deal in deals:\n",
        "    product_id=deal['entity']['details']['entity']['landingPage']['url'].split(\"/\")[-1]\n",
        "    # this is stupid, i need to improve this logic\n",
        "    if product_id in db_hash:\n",
        "      print(\"already_present\")\n",
        "      scraped_deals[product_id] = db_hash[product_id]\n",
        "      continue\n",
        "    start_time= deal['entity']['details']['entity']['startTime']['value']\n",
        "    #start_time dosen't count early offers for prime members\n",
        "    time_dic = deal['entity']['badge']['entity']['messaging']['content']['fragments'][1]\n",
        "    promo_codes = get_promo_ids(\"https://www.amazon.it/dp/\"+product_id)\n",
        "    actual_start_time= time_dic['dateTime'] if 'dateTime' in time_dic else time_dic['countdownTimer']['targetTime']\n",
        "    print(product_id + \" : \" + start_time + \" : \" + actual_start_time + \" \" + \" \".join(promo_codes))\n",
        "    scraped_deals[product_id] = {\"start_time\": start_time, \"actual_start_time\":actual_start_time, \"promo_codes\": promo_codes}\n",
        "\n",
        "  return scraped_deals"
      ]
    },
    {
      "cell_type": "code",
      "execution_count": null,
      "metadata": {
        "id": "euGmySOq3k4H"
      },
      "outputs": [],
      "source": [
        "def get_promo_ids(url):\n",
        "  res = requests.get(url)\n",
        "  #to future me, i'm not stupid, i cannot use response.content.text because for some reason it remove some parts of the hmtl response, exactly the part that we need here\n",
        "  html = res.content.decode(res.encoding)\n",
        "  blocked_pattern = \"api-services-support@amazon.com\"\n",
        "  if blocked_pattern in html:\n",
        "    #blocked by amazon\n",
        "    return get_promo_ids(url)\n",
        "  promo_pattern = r'/promo/[^\"]*'\n",
        "  promos = re.findall(promo_pattern, html)\n",
        "  return set([promo.split(\"/\")[-1] for promo in promos])"
      ]
    },
    {
      "cell_type": "code",
      "execution_count": null,
      "metadata": {
        "id": "K91ErCz9-2gq"
      },
      "outputs": [],
      "source": [
        "html = driver.page_source\n",
        "parse_html_deals_page(html,db_hash)"
      ]
    },
    {
      "cell_type": "code",
      "execution_count": 7,
      "metadata": {
        "id": "RE4boaiGuT2n"
      },
      "outputs": [],
      "source": [
        "def get_page_source(url):\n",
        "  driver.get(url)\n",
        "  return driver.page_source"
      ]
    },
    {
      "cell_type": "code",
      "execution_count": null,
      "metadata": {
        "id": "vYFcIG203J09"
      },
      "outputs": [],
      "source": [
        "url_first = 'https://www.amazon.it/deals?ref_=nav_cs_gb&deals-widget=%257B%2522version%2522%253A1%252C%2522viewIndex%2522%253A'\n",
        "#url_first = 'https://www.amazon.it/events/springdealdays?ref_=nav_cs_gb&deals-widget=%257B%2522version%2522%253A1%252C%2522viewIndex%2522%253A'\n",
        "page = '' # first page\n",
        "url_last = '0%252C%2522presetId%2522%253A%2522deals-collection-lightning-deals%2522%252C%2522dealState%2522%253A%2522UPCOMING%2522%252C%2522dealType%2522%253A%2522LIGHTNING_DEAL%2522%252C%2522sorting%2522%253A%2522FEATURED%2522%257D'\n",
        "while True:\n",
        "  url = url_first + page + url_last\n",
        "  html = get_page_source(url)\n",
        "  retry = 0\n",
        "  # deals it's an hash where each key is a product_id\n",
        "  deals = parse_html_deals_page(html,db_hash)\n",
        "  if not deals:\n",
        "    if (retry>2):\n",
        "      break\n",
        "    else:\n",
        "      retry+=1\n",
        "      # go on without incrementing page\n",
        "      continue\n",
        "  if deals:\n",
        "    retry = 0\n",
        "    for deal in deals:\n",
        "      if deal not in db_hash:\n",
        "        db_hash[deal] = deals[deal]\n",
        "    page = str(int(page) + 1) if page.isdigit() else '1'\n",
        "    print(\"page \" + page)\n",
        "  else:\n",
        "    break"
      ]
    },
    {
      "cell_type": "code",
      "execution_count": null,
      "metadata": {
        "colab": {
          "base_uri": "https://localhost:8080/"
        },
        "id": "zA37Fbe98BRR",
        "outputId": "1ea176c2-8eb2-4475-f6e4-65b3462bc27f"
      },
      "outputs": [
        {
          "data": {
            "text/plain": [
              "181"
            ]
          },
          "execution_count": 58,
          "metadata": {},
          "output_type": "execute_result"
        }
      ],
      "source": [
        "len(db_hash)"
      ]
    },
    {
      "cell_type": "code",
      "execution_count": null,
      "metadata": {
        "colab": {
          "base_uri": "https://localhost:8080/"
        },
        "id": "jvLCKvQclGL6",
        "outputId": "55fa425c-3188-4259-e206-3730e0725fe3"
      },
      "outputs": [
        {
          "data": {
            "text/plain": [
              "{'dateTime': '2024-03-18T07:20:00.000Z'}"
            ]
          },
          "execution_count": 7,
          "metadata": {},
          "output_type": "execute_result"
        }
      ],
      "source": [
        "time_dic"
      ]
    },
    {
      "cell_type": "code",
      "execution_count": null,
      "metadata": {
        "id": "5s6mWhEWHFwm"
      },
      "outputs": [],
      "source": [
        "db_array"
      ]
    },
    {
      "cell_type": "code",
      "execution_count": null,
      "metadata": {
        "colab": {
          "base_uri": "https://localhost:8080/"
        },
        "id": "g0fouRg2HTP4",
        "outputId": "a8a760d7-9e53-4c78-999b-92172538db0a"
      },
      "outputs": [
        {
          "name": "stdout",
          "output_type": "stream",
          "text": [
            "{'percent': '0', 'amount': '15.00'}\n",
            "{'percent': '0', 'amount': '10.00'}\n",
            "{'percent': '5', 'amount': ''}\n",
            "{'percent': '5', 'amount': ''}\n",
            "{'percent': '0', 'amount': '20.00'}\n",
            "{'percent': '5', 'amount': ''}\n",
            "{'percent': '10', 'amount': ''}\n",
            "{'percent': '5', 'amount': ''}\n",
            "{'percent': '5', 'amount': ''}\n",
            "{'percent': '5', 'amount': ''}\n",
            "{'percent': '0', 'amount': '50.00'}\n",
            "{'percent': '10', 'amount': ''}\n",
            "{'percent': '5', 'amount': ''}\n"
          ]
        }
      ],
      "source": [
        "for el in db_array:\n",
        "  promo_details_list = []\n",
        "  for promo_id in el['promo_codes']:\n",
        "    promo_details = get_promo_details(promo_id)\n",
        "    promo_details_list.append(promo_details)\n",
        "    #el['promo_details'] = promo_details\n",
        "    print(promo_details)\n",
        "  el['promo_details'] = promo_details_list"
      ]
    },
    {
      "cell_type": "code",
      "execution_count": null,
      "metadata": {
        "id": "Iw2A_q0FHw2h"
      },
      "outputs": [],
      "source": [
        "db_array"
      ]
    },
    {
      "cell_type": "code",
      "execution_count": null,
      "metadata": {
        "id": "coFSRsVbH4oI"
      },
      "outputs": [],
      "source": []
    },
    {
      "cell_type": "code",
      "execution_count": null,
      "metadata": {
        "id": "AS7qLd7NNg9m"
      },
      "outputs": [],
      "source": [
        "!pip install selenium-wire"
      ]
    },
    {
      "cell_type": "code",
      "execution_count": null,
      "metadata": {
        "id": "niJVrQqVQkf4"
      },
      "outputs": [],
      "source": [
        "driver.get(\"https://www.amazon.it/dp/B0CQCLF3HW\")"
      ]
    },
    {
      "cell_type": "code",
      "execution_count": null,
      "metadata": {
        "id": "nIOZYHB_NyLt"
      },
      "outputs": [],
      "source": [
        "driver.get(\"https://www.amazon.it/dp/B0CQCLF3HW\")\n",
        "from seleniumwire.utils import decode\n",
        "\n",
        "# Access requests via the `requests` attribute\n",
        "response = driver.requests[0].response\n",
        "body = decode(response.body, response.headers.get('Content-Encoding', 'identity'))\n",
        "print(body)\n",
        "for request in driver.requests:\n",
        "    if request.response:\n",
        "        #print(request.url)\n",
        "        if (request.url == \"https://www.amazon.it/dp/B0CQCLF3HW\"):\n",
        "          request.response"
      ]
    },
    {
      "cell_type": "code",
      "execution_count": null,
      "metadata": {
        "id": "hpT9hvL706kI"
      },
      "outputs": [],
      "source": [
        "test_product_url = \"https://www.amazon.it/Dispenser-sapone-automatico-distributore-impermeabile/dp/B0C2ZBHYP5?pf_rd_r=ZBDJ72Q8EEP923K4QK63&pf_rd_t=Events&pf_rd_i=deals&pf_rd_p=625f4ee2-9c7d-4cb3-8da6-d5915b990e77&pf_rd_s=slot-14&ref=dlx_deals_gd_dcl_img_74_c80cb10e_dt_sl14_77&th=1\"\n",
        "test_product_url = \"view-source:https://www.amazon.it/gp/product/B0C2V1113J\"\n",
        "driver.get(test_product_url)\n",
        "driver.page_source"
      ]
    },
    {
      "cell_type": "code",
      "execution_count": null,
      "metadata": {
        "id": "kXTkMMSU0wde"
      },
      "outputs": [],
      "source": [
        "print(driver.page_source)"
      ]
    },
    {
      "cell_type": "code",
      "execution_count": null,
      "metadata": {
        "colab": {
          "base_uri": "https://localhost:8080/"
        },
        "id": "t2iHQSknSaGo",
        "outputId": "4048daab-3afe-4bdf-cc4b-a161fe4f1564"
      },
      "outputs": [
        {
          "data": {
            "text/plain": [
              "[]"
            ]
          },
          "execution_count": 34,
          "metadata": {},
          "output_type": "execute_result"
        }
      ],
      "source": [
        "#questo metodo funzionva, ma a caso da selenium non si trova più l'url \"/promo/\", dal sorgente chrome c'è ancora\n",
        "test_product_url = \"https://www.amazon.it/dp/B0C2V1113J\"\n",
        "#driver.get(test_product_url)\n",
        "#html = driver.page_source\n",
        "#to future me, i'm not stupid, i cannot use response.content.text because for some reason it remove some parts of the hmtl response, exactly the part that we need here\n",
        "while True\n",
        "res = requests.get(test_product_url)\n",
        "html = res.content.decode(res.encoding)\n",
        "pattern = r'/promo/[^\"]*'\n",
        "promos = re.findall(pattern, html)\n",
        "[promo.split(\"/\")[-1] for promo in promos]"
      ]
    },
    {
      "cell_type": "code",
      "execution_count": null,
      "metadata": {
        "id": "Q9Z23vOqBgT7"
      },
      "outputs": [],
      "source": [
        "def get_promo_ids(url):\n",
        "  res = requests.get(url)\n",
        "  #to future me, i'm not stupid, i cannot use response.content.text because for some reason it remove some parts of the hmtl response, exactly the part that we need here\n",
        "  html = res.content.decode(res.encoding)\n",
        "  blocked_pattern = \"api-services-support@amazon.com\"\n",
        "  if blocked_pattern in html:\n",
        "    #blocked by amazon\n",
        "    return get_promo_ids(url)\n",
        "  promo_pattern = r'/promo/[^\"]*'\n",
        "  promos = re.findall(promo_pattern, html)\n",
        "  return set([promo.split(\"/\")[-1] for promo in promos])"
      ]
    },
    {
      "cell_type": "code",
      "execution_count": null,
      "metadata": {
        "colab": {
          "base_uri": "https://localhost:8080/"
        },
        "id": "gXKOC91WCbwk",
        "outputId": "23fc77bf-cd64-4e18-f3df-37dd3ecbc21e"
      },
      "outputs": [
        {
          "name": "stdout",
          "output_type": "stream",
          "text": [
            "blocked by amazon\n",
            "blocked by amazon\n"
          ]
        },
        {
          "data": {
            "text/plain": [
              "['A132Y800WM9J03', 'A3O2Q4VBLX7WDT']"
            ]
          },
          "execution_count": 41,
          "metadata": {},
          "output_type": "execute_result"
        }
      ],
      "source": [
        "get_promo_ids(test_product_url)"
      ]
    },
    {
      "cell_type": "code",
      "execution_count": null,
      "metadata": {
        "colab": {
          "base_uri": "https://localhost:8080/"
        },
        "id": "aTQw8daXATdg",
        "outputId": "29dcb5f9-22ac-46e2-dabd-a96e167823f6"
      },
      "outputs": [
        {
          "data": {
            "text/plain": [
              "b'<html>\\n<head>\\n    <meta http-equiv=\"content-type\" content=\"text/html; charset=UTF-8\">\\n    <meta charset=\"utf-8\">\\n    <meta http-equiv=\"X-UA-Compatible\" content=\"IE=edge,chrome=1\">\\n<title>Ci dispiace</title>\\n</head>\\n<body bgcolor=\"#FFFFFF\" text=\"#000000\">\\n\\n<!--\\nPer discutere l\\'accesso automatizzato ai dati di Amazon, contatta api-services-support@amazon.com.\\nPer informazioni sulla migrazione alle nostre API, fare riferimento alle API di Marketplace all\\'indirizzo https://developer.amazonservices.com/ref=rm_5_sv o alla nostra Product Advertising API all\\'indirizzo https://affiliate-program.amazon.com/gp/advertising/api/detail/main.html/ref=rm_5_ac per i casi d\\'uso pubblicitari.\\n\\nTo discuss automated access to Amazon data please contact api-services-support@amazon.com.\\nFor information about migrating to our APIs refer to our Marketplace APIs at https://developer.amazonservices.it/ref=rm_c_sv, or our Product Advertising API at https://programma-affiliazione.amazon.it/gp/advertising/api/detail/main.html/ref=rm_c_ac for advertising use cases.\\n-->\\n\\n<!--\\nCorreios.DoNotSend\\n-->\\n\\n<center>\\n<a href=\"https://www.amazon.it/ref=cs_503_logo/\">\\n<img src=\"https://images-eu.ssl-images-amazon.com/images/G/29/x-locale/communities/people/logo.gif\" width=200 height=45 alt=\"Amazon.it\" border=0></a>\\n<p align=center>\\n<font face=\"Verdana,Arial,Helvetica\">\\n<font size=\"+2\" color=\"#CC6600\"><b>Ci dispiace</b></font><br>\\n<b>Si \\xc3\\xa8 verificato un errore quando abbiamo tentato di elaborare la richiesta.<br>Stiamo lavorando al problema e ci aspettiamo di risolverlo a breve. Si prega di notare che se stavi effettuando un ordine, non sar\\xc3\\xa0 stato elaborato per il momento. Per favore riprova pi\\xc3\\xb9 tardi.\\n<br><br>Ci scusiamo per l\\'inconveniente.</b><p>\\n\\n<img src=\"https://images-eu.ssl-images-amazon.com/images/G/02/x-locale/common/orange-arrow.gif\" width=10 height=9 border=0 alt=\"*\">\\n<b><a href=\"https://www.amazon.it/ref=cs_503_link/\">Clicca qui per tornare alla home page di Amazon.it</a></b>\\n</font>\\n\\n</center>\\n</body>\\n</html>'"
            ]
          },
          "execution_count": 35,
          "metadata": {},
          "output_type": "execute_result"
        }
      ],
      "source": [
        "res.content"
      ]
    },
    {
      "cell_type": "code",
      "execution_count": null,
      "metadata": {
        "id": "l08nyAxmAORq"
      },
      "outputs": [],
      "source": [
        "res.content.decode(res.encoding)"
      ]
    },
    {
      "cell_type": "code",
      "execution_count": null,
      "metadata": {
        "id": "v6Ajoypblps_"
      },
      "outputs": [],
      "source": [
        "import requests\n",
        "res = requests.get(\"https://www.amazon.it/gp/product/B0C2V1113J\")\n",
        "res.content"
      ]
    },
    {
      "cell_type": "code",
      "execution_count": null,
      "metadata": {
        "id": "sJBk7w_l_CPs"
      },
      "outputs": [],
      "source": [
        "res.content.decode(res.encoding)"
      ]
    },
    {
      "cell_type": "code",
      "execution_count": null,
      "metadata": {
        "colab": {
          "base_uri": "https://localhost:8080/"
        },
        "id": "aicMG9h9e-hp",
        "outputId": "9dc79d1f-9f7c-48ab-809d-9e87b927d4a1"
      },
      "outputs": [
        {
          "data": {
            "text/plain": [
              "[]"
            ]
          },
          "execution_count": 15,
          "metadata": {},
          "output_type": "execute_result"
        }
      ],
      "source": [
        "driver.implicitly_wait(5)\n",
        "driver.get(\"https://www.amazon.it/dp/B0C2V1113J\")\n",
        "\n",
        "html = driver.page_source\n",
        "pattern = r'/promo/[^\"]*'\n",
        "promos = re.findall(pattern, html)\n",
        "[promo.split(\"/\")[-1] for promo in promos]"
      ]
    },
    {
      "cell_type": "code",
      "execution_count": null,
      "metadata": {
        "colab": {
          "base_uri": "https://localhost:8080/"
        },
        "id": "92IwPpbMnHVA",
        "outputId": "c2fb3d68-031f-44d4-ed56-5494ccdf6aa7"
      },
      "outputs": [
        {
          "data": {
            "text/plain": [
              "{'percent': '5', 'amount': ''}"
            ]
          },
          "execution_count": 77,
          "metadata": {},
          "output_type": "execute_result"
        }
      ],
      "source": [
        "import requests\n",
        "def get_promo_details(promo_id):\n",
        "  base_promo_url = 'https://www.amazon.it/promotion/psp/'\n",
        "\n",
        "  promo_url = base_promo_url + promo_id\n",
        "  #promo_data = requests.get(promo_url).json()['cartProgressIndicatorResponse']['promotionTiers'][0]\n",
        "  html = requests.get(promo_url).text\n",
        "  pattern = r'let getCartItemsRequest = ({.*?});'\n",
        "  search = re.search(pattern, html, re.DOTALL)\n",
        "  if not search:\n",
        "    return get_promo_details(promo_id)\n",
        "  promo_data = search.group(1)\n",
        "\n",
        "    # Try to convert the JSON string to a dictionary.\n",
        "  promo_data = re.sub(r':\\s*JSON\\.stringify\\(\\w+\\)', ': \"\"', promo_data)\n",
        "  promo_dict = json.loads(promo_data)\n",
        "  return {\"percent\": promo_dict['benefitPercent'].lower(), \"amount\": promo_dict['benefitAmount']}\n",
        "\n",
        "get_promo_details('A3O2Q4VBLX7WDT')\n"
      ]
    },
    {
      "cell_type": "code",
      "execution_count": null,
      "metadata": {
        "id": "3St0NouCIhI4"
      },
      "outputs": [],
      "source": [
        "from bs4 import BeautifulSoup\n",
        "from datetime import datetime\n",
        "\n",
        "soup = BeautifulSoup(html, 'html.parser')\n",
        "\n",
        "# Find the parent div with the specified class prefix\n",
        "parent_div = soup.select_one('div[class^=\"Grid-module__gridDisplayGrid\"]')\n",
        "\n",
        "# Find all child divs with the specified class prefix\n",
        "divs = parent_div.select('div[class^=\"DealGridItem-module__dealItemDisplayGrid\"]')\n",
        "\n",
        "for div in divs:\n",
        "    # Extract product URL\n",
        "    product_url = div.select_one('a[class^=\"a-link-normal DealCard-module__linkOutlineOffset\"]')['href']\n",
        "\n",
        "    # Extract offer time and convert to datetime\n",
        "    offer_time_str = div.select_one('time[class^=\"DealMessaging-module__dealMessaging\"]').text.split(' ')[-1]\n",
        "    offer_time = None\n",
        "    try:\n",
        "      #offer_time = datetime.strptime(offer_time_str, '%H:%M')\n",
        "      offer_time = offer_time_str\n",
        "    except:\n",
        "      next\n",
        "\n",
        "    print(f'Product URL: {product_url}')\n",
        "    print(f'Offer Time: {offer_time}')\n"
      ]
    }
  ],
  "metadata": {
    "colab": {
      "provenance": []
    },
    "kernelspec": {
      "display_name": "Python 3",
      "name": "python3"
    },
    "language_info": {
      "codemirror_mode": {
        "name": "ipython",
        "version": 3
      },
      "file_extension": ".py",
      "mimetype": "text/x-python",
      "name": "python",
      "nbconvert_exporter": "python",
      "pygments_lexer": "ipython3",
      "version": "3.8.10"
    }
  },
  "nbformat": 4,
  "nbformat_minor": 0
}
